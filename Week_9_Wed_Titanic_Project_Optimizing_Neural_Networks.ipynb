{
  "nbformat": 4,
  "nbformat_minor": 0,
  "metadata": {
    "colab": {
      "name": "Week 9 Wed Titanic Project: Optimizing Neural Networks",
      "provenance": [],
      "toc_visible": true,
      "collapsed_sections": [],
      "include_colab_link": true
    },
    "kernelspec": {
      "name": "python3",
      "display_name": "Python 3"
    },
    "language_info": {
      "name": "python"
    }
  },
  "cells": [
    {
      "cell_type": "markdown",
      "metadata": {
        "id": "view-in-github",
        "colab_type": "text"
      },
      "source": [
        "<a href=\"https://colab.research.google.com/github/chalsai/Titanic-Project-Optimizing-Neural-Networks/blob/main/Week_9_Wed_Titanic_Project_Optimizing_Neural_Networks.ipynb\" target=\"_parent\"><img src=\"https://colab.research.google.com/assets/colab-badge.svg\" alt=\"Open In Colab\"/></a>"
      ]
    },
    {
      "cell_type": "markdown",
      "metadata": {
        "id": "G7AxIWGca5k9"
      },
      "source": [
        "# <font color='#2F4F4F'>1. Defining the Question</font>"
      ]
    },
    {
      "cell_type": "markdown",
      "metadata": {
        "id": "a8d2jRARa5k_"
      },
      "source": [
        "### a) Specifying the Data Analysis Question\n",
        "\n",
        "While there was some element of luck involved in surviving, it seems some groups of people were more likely to survive than others. In this challenge, you have been tasked to build a predictive model that answers the question: “what sorts of people were more likely to survive?” using passenger data (ie name, age, gender, socio-economic class, etc). You will be required to perform feature engineering then tune your most accurate model."
      ]
    },
    {
      "cell_type": "markdown",
      "metadata": {
        "id": "rIJp00fPa5lA"
      },
      "source": [
        "### b) Defining the Metric for Success\n",
        "\n",
        "We will use the accuracy score as a metric for our success with 80% as success."
      ]
    },
    {
      "cell_type": "markdown",
      "metadata": {
        "id": "uVkmkKxGa5lB"
      },
      "source": [
        "### c) Understanding the Context \n",
        "\n",
        "The sinking of the Titanic is one of the most infamous shipwrecks in history. On April 15, 1912, during her maiden voyage, the widely considered “unsinkable” RMS Titanic sank after colliding with an iceberg. Unfortunately, there weren’t enough lifeboats for everyone on board, resulting in the death of 1502 out of 2224 passengers and crew."
      ]
    },
    {
      "cell_type": "markdown",
      "metadata": {
        "id": "U45AQzSta5lC"
      },
      "source": [
        "### d) Recording the Experimental Design\n",
        "\n",
        "* Defining the Research Question\n",
        "* Data Importation\n",
        "* Data Exploration\n",
        "* Data Cleaning\n",
        "* Data Analysis (Univariate and Bivariate)\n",
        "* Data Preparation\n",
        "* Data Modeling\n",
        "* Model Evaluation\n",
        "* Challenging your Solution\n",
        "* Recommendations / Conclusion "
      ]
    },
    {
      "cell_type": "markdown",
      "metadata": {
        "id": "nqqojWFna5lD"
      },
      "source": [
        "### e) Data Relevance\n",
        "\n",
        "The data is appropriate for the research question."
      ]
    },
    {
      "cell_type": "markdown",
      "metadata": {
        "id": "XUluBpAda5lD"
      },
      "source": [
        "# <font color='#2F4F4F'>2. Data Cleaning & Preparation</font>"
      ]
    },
    {
      "cell_type": "code",
      "metadata": {
        "id": "JG62GbR7a5lE"
      },
      "source": [
        "# loading libraries\n",
        "import pandas as pd\n",
        "import numpy as np\n",
        "import matplotlib.pyplot as plt\n",
        "import seaborn as sns\n",
        "\n",
        "pd.set_option('display.max.columns', None)\n",
        "pd.set_option('display.max_colwidth', None)\n",
        "%matplotlib inline"
      ],
      "execution_count": 1,
      "outputs": []
    },
    {
      "cell_type": "code",
      "metadata": {
        "scrolled": true,
        "id": "PgRU61fCa5lI",
        "colab": {
          "base_uri": "https://localhost:8080/",
          "height": 143
        },
        "outputId": "e15e191f-6839-4f89-c3e7-bb6b992b0852"
      },
      "source": [
        "# loading and previewing the train dataset\n",
        "train = pd.read_csv('https://bit.ly/31azYjb')\n",
        "train.sample(3)"
      ],
      "execution_count": 2,
      "outputs": [
        {
          "output_type": "execute_result",
          "data": {
            "text/plain": [
              "     PassengerId  Survived  Pclass                                Name  \\\n",
              "539          540         1       1  Frolicher, Miss. Hedwig Margaritha   \n",
              "16            17         0       3                Rice, Master. Eugene   \n",
              "173          174         0       3           Sivola, Mr. Antti Wilhelm   \n",
              "\n",
              "        Sex   Age  SibSp  Parch             Ticket    Fare Cabin Embarked  \n",
              "539  female  22.0      0      2              13568  49.500   B39        C  \n",
              "16     male   2.0      4      1             382652  29.125   NaN        Q  \n",
              "173    male  21.0      0      0  STON/O 2. 3101280   7.925   NaN        S  "
            ],
            "text/html": [
              "\n",
              "  <div id=\"df-97e968fa-6082-4752-b228-1f554109b7f1\">\n",
              "    <div class=\"colab-df-container\">\n",
              "      <div>\n",
              "<style scoped>\n",
              "    .dataframe tbody tr th:only-of-type {\n",
              "        vertical-align: middle;\n",
              "    }\n",
              "\n",
              "    .dataframe tbody tr th {\n",
              "        vertical-align: top;\n",
              "    }\n",
              "\n",
              "    .dataframe thead th {\n",
              "        text-align: right;\n",
              "    }\n",
              "</style>\n",
              "<table border=\"1\" class=\"dataframe\">\n",
              "  <thead>\n",
              "    <tr style=\"text-align: right;\">\n",
              "      <th></th>\n",
              "      <th>PassengerId</th>\n",
              "      <th>Survived</th>\n",
              "      <th>Pclass</th>\n",
              "      <th>Name</th>\n",
              "      <th>Sex</th>\n",
              "      <th>Age</th>\n",
              "      <th>SibSp</th>\n",
              "      <th>Parch</th>\n",
              "      <th>Ticket</th>\n",
              "      <th>Fare</th>\n",
              "      <th>Cabin</th>\n",
              "      <th>Embarked</th>\n",
              "    </tr>\n",
              "  </thead>\n",
              "  <tbody>\n",
              "    <tr>\n",
              "      <th>539</th>\n",
              "      <td>540</td>\n",
              "      <td>1</td>\n",
              "      <td>1</td>\n",
              "      <td>Frolicher, Miss. Hedwig Margaritha</td>\n",
              "      <td>female</td>\n",
              "      <td>22.0</td>\n",
              "      <td>0</td>\n",
              "      <td>2</td>\n",
              "      <td>13568</td>\n",
              "      <td>49.500</td>\n",
              "      <td>B39</td>\n",
              "      <td>C</td>\n",
              "    </tr>\n",
              "    <tr>\n",
              "      <th>16</th>\n",
              "      <td>17</td>\n",
              "      <td>0</td>\n",
              "      <td>3</td>\n",
              "      <td>Rice, Master. Eugene</td>\n",
              "      <td>male</td>\n",
              "      <td>2.0</td>\n",
              "      <td>4</td>\n",
              "      <td>1</td>\n",
              "      <td>382652</td>\n",
              "      <td>29.125</td>\n",
              "      <td>NaN</td>\n",
              "      <td>Q</td>\n",
              "    </tr>\n",
              "    <tr>\n",
              "      <th>173</th>\n",
              "      <td>174</td>\n",
              "      <td>0</td>\n",
              "      <td>3</td>\n",
              "      <td>Sivola, Mr. Antti Wilhelm</td>\n",
              "      <td>male</td>\n",
              "      <td>21.0</td>\n",
              "      <td>0</td>\n",
              "      <td>0</td>\n",
              "      <td>STON/O 2. 3101280</td>\n",
              "      <td>7.925</td>\n",
              "      <td>NaN</td>\n",
              "      <td>S</td>\n",
              "    </tr>\n",
              "  </tbody>\n",
              "</table>\n",
              "</div>\n",
              "      <button class=\"colab-df-convert\" onclick=\"convertToInteractive('df-97e968fa-6082-4752-b228-1f554109b7f1')\"\n",
              "              title=\"Convert this dataframe to an interactive table.\"\n",
              "              style=\"display:none;\">\n",
              "        \n",
              "  <svg xmlns=\"http://www.w3.org/2000/svg\" height=\"24px\"viewBox=\"0 0 24 24\"\n",
              "       width=\"24px\">\n",
              "    <path d=\"M0 0h24v24H0V0z\" fill=\"none\"/>\n",
              "    <path d=\"M18.56 5.44l.94 2.06.94-2.06 2.06-.94-2.06-.94-.94-2.06-.94 2.06-2.06.94zm-11 1L8.5 8.5l.94-2.06 2.06-.94-2.06-.94L8.5 2.5l-.94 2.06-2.06.94zm10 10l.94 2.06.94-2.06 2.06-.94-2.06-.94-.94-2.06-.94 2.06-2.06.94z\"/><path d=\"M17.41 7.96l-1.37-1.37c-.4-.4-.92-.59-1.43-.59-.52 0-1.04.2-1.43.59L10.3 9.45l-7.72 7.72c-.78.78-.78 2.05 0 2.83L4 21.41c.39.39.9.59 1.41.59.51 0 1.02-.2 1.41-.59l7.78-7.78 2.81-2.81c.8-.78.8-2.07 0-2.86zM5.41 20L4 18.59l7.72-7.72 1.47 1.35L5.41 20z\"/>\n",
              "  </svg>\n",
              "      </button>\n",
              "      \n",
              "  <style>\n",
              "    .colab-df-container {\n",
              "      display:flex;\n",
              "      flex-wrap:wrap;\n",
              "      gap: 12px;\n",
              "    }\n",
              "\n",
              "    .colab-df-convert {\n",
              "      background-color: #E8F0FE;\n",
              "      border: none;\n",
              "      border-radius: 50%;\n",
              "      cursor: pointer;\n",
              "      display: none;\n",
              "      fill: #1967D2;\n",
              "      height: 32px;\n",
              "      padding: 0 0 0 0;\n",
              "      width: 32px;\n",
              "    }\n",
              "\n",
              "    .colab-df-convert:hover {\n",
              "      background-color: #E2EBFA;\n",
              "      box-shadow: 0px 1px 2px rgba(60, 64, 67, 0.3), 0px 1px 3px 1px rgba(60, 64, 67, 0.15);\n",
              "      fill: #174EA6;\n",
              "    }\n",
              "\n",
              "    [theme=dark] .colab-df-convert {\n",
              "      background-color: #3B4455;\n",
              "      fill: #D2E3FC;\n",
              "    }\n",
              "\n",
              "    [theme=dark] .colab-df-convert:hover {\n",
              "      background-color: #434B5C;\n",
              "      box-shadow: 0px 1px 3px 1px rgba(0, 0, 0, 0.15);\n",
              "      filter: drop-shadow(0px 1px 2px rgba(0, 0, 0, 0.3));\n",
              "      fill: #FFFFFF;\n",
              "    }\n",
              "  </style>\n",
              "\n",
              "      <script>\n",
              "        const buttonEl =\n",
              "          document.querySelector('#df-97e968fa-6082-4752-b228-1f554109b7f1 button.colab-df-convert');\n",
              "        buttonEl.style.display =\n",
              "          google.colab.kernel.accessAllowed ? 'block' : 'none';\n",
              "\n",
              "        async function convertToInteractive(key) {\n",
              "          const element = document.querySelector('#df-97e968fa-6082-4752-b228-1f554109b7f1');\n",
              "          const dataTable =\n",
              "            await google.colab.kernel.invokeFunction('convertToInteractive',\n",
              "                                                     [key], {});\n",
              "          if (!dataTable) return;\n",
              "\n",
              "          const docLinkHtml = 'Like what you see? Visit the ' +\n",
              "            '<a target=\"_blank\" href=https://colab.research.google.com/notebooks/data_table.ipynb>data table notebook</a>'\n",
              "            + ' to learn more about interactive tables.';\n",
              "          element.innerHTML = '';\n",
              "          dataTable['output_type'] = 'display_data';\n",
              "          await google.colab.output.renderOutput(dataTable, element);\n",
              "          const docLink = document.createElement('div');\n",
              "          docLink.innerHTML = docLinkHtml;\n",
              "          element.appendChild(docLink);\n",
              "        }\n",
              "      </script>\n",
              "    </div>\n",
              "  </div>\n",
              "  "
            ]
          },
          "metadata": {},
          "execution_count": 2
        }
      ]
    },
    {
      "cell_type": "code",
      "metadata": {
        "id": "LWR4FufRa5lN",
        "colab": {
          "base_uri": "https://localhost:8080/",
          "height": 143
        },
        "outputId": "c627f156-c51d-40aa-f3a8-932e994cef33"
      },
      "source": [
        "# loading and previewing the test dataset\n",
        "test = pd.read_csv('https://bit.ly/2XmmAYe ')\n",
        "test.sample(3)"
      ],
      "execution_count": 3,
      "outputs": [
        {
          "output_type": "execute_result",
          "data": {
            "text/plain": [
              "     PassengerId  Pclass                        Name     Sex   Age  SibSp  \\\n",
              "10           902       3            Ilieff, Mr. Ylio    male   NaN      0   \n",
              "0            892       3            Kelly, Mr. James    male  34.5      0   \n",
              "203         1095       2  Quick, Miss. Winifred Vera  female   8.0      1   \n",
              "\n",
              "     Parch  Ticket     Fare Cabin Embarked  \n",
              "10       0  349220   7.8958   NaN        S  \n",
              "0        0  330911   7.8292   NaN        Q  \n",
              "203      1   26360  26.0000   NaN        S  "
            ],
            "text/html": [
              "\n",
              "  <div id=\"df-d0bd4819-86fb-46ac-8e13-16beeec9a551\">\n",
              "    <div class=\"colab-df-container\">\n",
              "      <div>\n",
              "<style scoped>\n",
              "    .dataframe tbody tr th:only-of-type {\n",
              "        vertical-align: middle;\n",
              "    }\n",
              "\n",
              "    .dataframe tbody tr th {\n",
              "        vertical-align: top;\n",
              "    }\n",
              "\n",
              "    .dataframe thead th {\n",
              "        text-align: right;\n",
              "    }\n",
              "</style>\n",
              "<table border=\"1\" class=\"dataframe\">\n",
              "  <thead>\n",
              "    <tr style=\"text-align: right;\">\n",
              "      <th></th>\n",
              "      <th>PassengerId</th>\n",
              "      <th>Pclass</th>\n",
              "      <th>Name</th>\n",
              "      <th>Sex</th>\n",
              "      <th>Age</th>\n",
              "      <th>SibSp</th>\n",
              "      <th>Parch</th>\n",
              "      <th>Ticket</th>\n",
              "      <th>Fare</th>\n",
              "      <th>Cabin</th>\n",
              "      <th>Embarked</th>\n",
              "    </tr>\n",
              "  </thead>\n",
              "  <tbody>\n",
              "    <tr>\n",
              "      <th>10</th>\n",
              "      <td>902</td>\n",
              "      <td>3</td>\n",
              "      <td>Ilieff, Mr. Ylio</td>\n",
              "      <td>male</td>\n",
              "      <td>NaN</td>\n",
              "      <td>0</td>\n",
              "      <td>0</td>\n",
              "      <td>349220</td>\n",
              "      <td>7.8958</td>\n",
              "      <td>NaN</td>\n",
              "      <td>S</td>\n",
              "    </tr>\n",
              "    <tr>\n",
              "      <th>0</th>\n",
              "      <td>892</td>\n",
              "      <td>3</td>\n",
              "      <td>Kelly, Mr. James</td>\n",
              "      <td>male</td>\n",
              "      <td>34.5</td>\n",
              "      <td>0</td>\n",
              "      <td>0</td>\n",
              "      <td>330911</td>\n",
              "      <td>7.8292</td>\n",
              "      <td>NaN</td>\n",
              "      <td>Q</td>\n",
              "    </tr>\n",
              "    <tr>\n",
              "      <th>203</th>\n",
              "      <td>1095</td>\n",
              "      <td>2</td>\n",
              "      <td>Quick, Miss. Winifred Vera</td>\n",
              "      <td>female</td>\n",
              "      <td>8.0</td>\n",
              "      <td>1</td>\n",
              "      <td>1</td>\n",
              "      <td>26360</td>\n",
              "      <td>26.0000</td>\n",
              "      <td>NaN</td>\n",
              "      <td>S</td>\n",
              "    </tr>\n",
              "  </tbody>\n",
              "</table>\n",
              "</div>\n",
              "      <button class=\"colab-df-convert\" onclick=\"convertToInteractive('df-d0bd4819-86fb-46ac-8e13-16beeec9a551')\"\n",
              "              title=\"Convert this dataframe to an interactive table.\"\n",
              "              style=\"display:none;\">\n",
              "        \n",
              "  <svg xmlns=\"http://www.w3.org/2000/svg\" height=\"24px\"viewBox=\"0 0 24 24\"\n",
              "       width=\"24px\">\n",
              "    <path d=\"M0 0h24v24H0V0z\" fill=\"none\"/>\n",
              "    <path d=\"M18.56 5.44l.94 2.06.94-2.06 2.06-.94-2.06-.94-.94-2.06-.94 2.06-2.06.94zm-11 1L8.5 8.5l.94-2.06 2.06-.94-2.06-.94L8.5 2.5l-.94 2.06-2.06.94zm10 10l.94 2.06.94-2.06 2.06-.94-2.06-.94-.94-2.06-.94 2.06-2.06.94z\"/><path d=\"M17.41 7.96l-1.37-1.37c-.4-.4-.92-.59-1.43-.59-.52 0-1.04.2-1.43.59L10.3 9.45l-7.72 7.72c-.78.78-.78 2.05 0 2.83L4 21.41c.39.39.9.59 1.41.59.51 0 1.02-.2 1.41-.59l7.78-7.78 2.81-2.81c.8-.78.8-2.07 0-2.86zM5.41 20L4 18.59l7.72-7.72 1.47 1.35L5.41 20z\"/>\n",
              "  </svg>\n",
              "      </button>\n",
              "      \n",
              "  <style>\n",
              "    .colab-df-container {\n",
              "      display:flex;\n",
              "      flex-wrap:wrap;\n",
              "      gap: 12px;\n",
              "    }\n",
              "\n",
              "    .colab-df-convert {\n",
              "      background-color: #E8F0FE;\n",
              "      border: none;\n",
              "      border-radius: 50%;\n",
              "      cursor: pointer;\n",
              "      display: none;\n",
              "      fill: #1967D2;\n",
              "      height: 32px;\n",
              "      padding: 0 0 0 0;\n",
              "      width: 32px;\n",
              "    }\n",
              "\n",
              "    .colab-df-convert:hover {\n",
              "      background-color: #E2EBFA;\n",
              "      box-shadow: 0px 1px 2px rgba(60, 64, 67, 0.3), 0px 1px 3px 1px rgba(60, 64, 67, 0.15);\n",
              "      fill: #174EA6;\n",
              "    }\n",
              "\n",
              "    [theme=dark] .colab-df-convert {\n",
              "      background-color: #3B4455;\n",
              "      fill: #D2E3FC;\n",
              "    }\n",
              "\n",
              "    [theme=dark] .colab-df-convert:hover {\n",
              "      background-color: #434B5C;\n",
              "      box-shadow: 0px 1px 3px 1px rgba(0, 0, 0, 0.15);\n",
              "      filter: drop-shadow(0px 1px 2px rgba(0, 0, 0, 0.3));\n",
              "      fill: #FFFFFF;\n",
              "    }\n",
              "  </style>\n",
              "\n",
              "      <script>\n",
              "        const buttonEl =\n",
              "          document.querySelector('#df-d0bd4819-86fb-46ac-8e13-16beeec9a551 button.colab-df-convert');\n",
              "        buttonEl.style.display =\n",
              "          google.colab.kernel.accessAllowed ? 'block' : 'none';\n",
              "\n",
              "        async function convertToInteractive(key) {\n",
              "          const element = document.querySelector('#df-d0bd4819-86fb-46ac-8e13-16beeec9a551');\n",
              "          const dataTable =\n",
              "            await google.colab.kernel.invokeFunction('convertToInteractive',\n",
              "                                                     [key], {});\n",
              "          if (!dataTable) return;\n",
              "\n",
              "          const docLinkHtml = 'Like what you see? Visit the ' +\n",
              "            '<a target=\"_blank\" href=https://colab.research.google.com/notebooks/data_table.ipynb>data table notebook</a>'\n",
              "            + ' to learn more about interactive tables.';\n",
              "          element.innerHTML = '';\n",
              "          dataTable['output_type'] = 'display_data';\n",
              "          await google.colab.output.renderOutput(dataTable, element);\n",
              "          const docLink = document.createElement('div');\n",
              "          docLink.innerHTML = docLinkHtml;\n",
              "          element.appendChild(docLink);\n",
              "        }\n",
              "      </script>\n",
              "    </div>\n",
              "  </div>\n",
              "  "
            ]
          },
          "metadata": {},
          "execution_count": 3
        }
      ]
    },
    {
      "cell_type": "code",
      "metadata": {
        "id": "qfw5unuNa5lR",
        "colab": {
          "base_uri": "https://localhost:8080/"
        },
        "outputId": "1d4582aa-8439-489e-b696-b4bf16a66c5a"
      },
      "source": [
        "# checking the datasets' shapes\n",
        "print(\"Train shape:\", train.shape)\n",
        "print(\"Test shape:\", test.shape)"
      ],
      "execution_count": 4,
      "outputs": [
        {
          "output_type": "stream",
          "name": "stdout",
          "text": [
            "Train shape: (891, 12)\n",
            "Test shape: (418, 11)\n"
          ]
        }
      ]
    },
    {
      "cell_type": "code",
      "metadata": {
        "id": "OhO7GKP9a5lV",
        "colab": {
          "base_uri": "https://localhost:8080/"
        },
        "outputId": "f9ce2a11-e53e-43f0-b072-e9581ea164c6"
      },
      "source": [
        "# checking data types of Train\n",
        "train.dtypes"
      ],
      "execution_count": 5,
      "outputs": [
        {
          "output_type": "execute_result",
          "data": {
            "text/plain": [
              "PassengerId      int64\n",
              "Survived         int64\n",
              "Pclass           int64\n",
              "Name            object\n",
              "Sex             object\n",
              "Age            float64\n",
              "SibSp            int64\n",
              "Parch            int64\n",
              "Ticket          object\n",
              "Fare           float64\n",
              "Cabin           object\n",
              "Embarked        object\n",
              "dtype: object"
            ]
          },
          "metadata": {},
          "execution_count": 5
        }
      ]
    },
    {
      "cell_type": "code",
      "metadata": {
        "id": "XGArQiVHa5lY",
        "colab": {
          "base_uri": "https://localhost:8080/"
        },
        "outputId": "9bb68654-a590-4b9f-96a4-a8e016386442"
      },
      "source": [
        "# checking data types of Test\n",
        "test.dtypes"
      ],
      "execution_count": 6,
      "outputs": [
        {
          "output_type": "execute_result",
          "data": {
            "text/plain": [
              "PassengerId      int64\n",
              "Pclass           int64\n",
              "Name            object\n",
              "Sex             object\n",
              "Age            float64\n",
              "SibSp            int64\n",
              "Parch            int64\n",
              "Ticket          object\n",
              "Fare           float64\n",
              "Cabin           object\n",
              "Embarked        object\n",
              "dtype: object"
            ]
          },
          "metadata": {},
          "execution_count": 6
        }
      ]
    },
    {
      "cell_type": "code",
      "metadata": {
        "id": "KQ2s5mZHa5ld",
        "colab": {
          "base_uri": "https://localhost:8080/"
        },
        "outputId": "30af4d74-bd0e-428b-c061-0619d9844bd3"
      },
      "source": [
        "# dropping duplicates, if any\n",
        "train.drop_duplicates(inplace = True)\n",
        "test.drop_duplicates(inplace = True)\n",
        "\n",
        "print(\"Train shape:\", train.shape)\n",
        "print(\"Test shape:\", test.shape)"
      ],
      "execution_count": 7,
      "outputs": [
        {
          "output_type": "stream",
          "name": "stdout",
          "text": [
            "Train shape: (891, 12)\n",
            "Test shape: (418, 11)\n"
          ]
        }
      ]
    },
    {
      "cell_type": "code",
      "metadata": {
        "id": "mANr9p6Pa5ll",
        "colab": {
          "base_uri": "https://localhost:8080/"
        },
        "outputId": "2cb993e1-6b05-45f1-b4ee-9ab3f6a06268"
      },
      "source": [
        "# checking for missing data in Train\n",
        "train.isna().sum()"
      ],
      "execution_count": 8,
      "outputs": [
        {
          "output_type": "execute_result",
          "data": {
            "text/plain": [
              "PassengerId      0\n",
              "Survived         0\n",
              "Pclass           0\n",
              "Name             0\n",
              "Sex              0\n",
              "Age            177\n",
              "SibSp            0\n",
              "Parch            0\n",
              "Ticket           0\n",
              "Fare             0\n",
              "Cabin          687\n",
              "Embarked         2\n",
              "dtype: int64"
            ]
          },
          "metadata": {},
          "execution_count": 8
        }
      ]
    },
    {
      "cell_type": "code",
      "metadata": {
        "id": "newTgtEba5lo",
        "colab": {
          "base_uri": "https://localhost:8080/"
        },
        "outputId": "63b707e0-05e6-4e3d-f4e4-5ad991447fea"
      },
      "source": [
        "# replacing missing 'Age' values with column mean and 'Embarked' with mode in train\n",
        "train['Age'].fillna(train['Age'].mean(), inplace = True)\n",
        "train['Embarked'].fillna(train['Embarked'].mode()[0], inplace = True)\n",
        "\n",
        "# dropping 'Cabin' since it has too many missing values to impute\n",
        "train.drop(columns = ['Cabin'], inplace = True)\n",
        "\n",
        "# confirming we don't have any missing values\n",
        "train.isna().sum()"
      ],
      "execution_count": 4,
      "outputs": [
        {
          "output_type": "execute_result",
          "data": {
            "text/plain": [
              "PassengerId    0\n",
              "Survived       0\n",
              "Pclass         0\n",
              "Name           0\n",
              "Sex            0\n",
              "Age            0\n",
              "SibSp          0\n",
              "Parch          0\n",
              "Ticket         0\n",
              "Fare           0\n",
              "Embarked       0\n",
              "dtype: int64"
            ]
          },
          "metadata": {},
          "execution_count": 4
        }
      ]
    },
    {
      "cell_type": "code",
      "metadata": {
        "id": "uWmaJf8ia5lr",
        "colab": {
          "base_uri": "https://localhost:8080/"
        },
        "outputId": "e0ab0f4f-71a6-4df5-aa01-c3c874e80766"
      },
      "source": [
        "# checking for missing data in Test\n",
        "test.isna().sum()"
      ],
      "execution_count": 5,
      "outputs": [
        {
          "output_type": "execute_result",
          "data": {
            "text/plain": [
              "PassengerId      0\n",
              "Pclass           0\n",
              "Name             0\n",
              "Sex              0\n",
              "Age             86\n",
              "SibSp            0\n",
              "Parch            0\n",
              "Ticket           0\n",
              "Fare             1\n",
              "Cabin          327\n",
              "Embarked         0\n",
              "dtype: int64"
            ]
          },
          "metadata": {},
          "execution_count": 5
        }
      ]
    },
    {
      "cell_type": "code",
      "metadata": {
        "id": "n9tJ9Ttva5lu",
        "colab": {
          "base_uri": "https://localhost:8080/"
        },
        "outputId": "4bc87034-f650-44c1-bf1a-0e6dc071fc62"
      },
      "source": [
        "# repacing missing 'Age' and 'Fare' values with their respective mean in test\n",
        "test['Age'].fillna(test['Age'].mean(), inplace = True)\n",
        "test['Fare'].fillna(test['Fare'].mean(), inplace = True)\n",
        "\n",
        "# dropping 'Cabin' since it has too many missing values to impute\n",
        "test.drop(columns = ['Cabin'], inplace = True)\n",
        "\n",
        "# confirming we don't have any missing values\n",
        "test.isna().sum()"
      ],
      "execution_count": 6,
      "outputs": [
        {
          "output_type": "execute_result",
          "data": {
            "text/plain": [
              "PassengerId    0\n",
              "Pclass         0\n",
              "Name           0\n",
              "Sex            0\n",
              "Age            0\n",
              "SibSp          0\n",
              "Parch          0\n",
              "Ticket         0\n",
              "Fare           0\n",
              "Embarked       0\n",
              "dtype: int64"
            ]
          },
          "metadata": {},
          "execution_count": 6
        }
      ]
    },
    {
      "cell_type": "code",
      "metadata": {
        "id": "M2nrJe8ka5lx",
        "colab": {
          "base_uri": "https://localhost:8080/",
          "height": 374
        },
        "outputId": "a5c0bb9a-0abb-4ee8-8ade-60bde6d97146"
      },
      "source": [
        "# visualizing the distribution of outliers - Train\n",
        "plt.figure(figsize = (10, 6))\n",
        "train.boxplot()\n",
        "plt.show()"
      ],
      "execution_count": 7,
      "outputs": [
        {
          "output_type": "display_data",
          "data": {
            "text/plain": [
              "<Figure size 720x432 with 1 Axes>"
            ],
            "image/png": "[encoded data removed]"
          },
          "metadata": {
            "needs_background": "light"
          }
        }
      ]
    },
    {
      "cell_type": "code",
      "metadata": {
        "id": "HIzFSRdBa5l0",
        "colab": {
          "base_uri": "https://localhost:8080/",
          "height": 374
        },
        "outputId": "021dd21a-bb02-4635-a61d-3dd695f1ba52"
      },
      "source": [
        "# visualizing the distribution of outliers - Test\n",
        "plt.figure(figsize = (10, 6))\n",
        "test.boxplot()\n",
        "plt.show()"
      ],
      "execution_count": 8,
      "outputs": [
        {
          "output_type": "display_data",
          "data": {
            "text/plain": [
              "<Figure size 720x432 with 1 Axes>"
            ],
            "image/png": "[encoded data removed]"
          },
          "metadata": {
            "needs_background": "light"
          }
        }
      ]
    },
    {
      "cell_type": "markdown",
      "metadata": {
        "id": "DL2RLR4xa5l6"
      },
      "source": [
        "# <font color='#2F4F4F'>3. Data Analysis</font>"
      ]
    },
    {
      "cell_type": "markdown",
      "metadata": {
        "id": "XdjsRfTpa5l7"
      },
      "source": [
        "## 3.1 Feature Engineering"
      ]
    },
    {
      "cell_type": "markdown",
      "metadata": {
        "id": "oU3RLshWa5l8"
      },
      "source": [
        "### 3.1.1 Getting the Title"
      ]
    },
    {
      "cell_type": "code",
      "metadata": {
        "id": "_t1Zp3QWa5l8",
        "colab": {
          "base_uri": "https://localhost:8080/",
          "height": 143
        },
        "outputId": "6f9042f0-eedd-40b9-fae3-193c7f4f86ff"
      },
      "source": [
        "# Train\n",
        "# extracting the title from the name\n",
        "train['Title'] = train['Name'].str.extract('([A-Za-z]+)\\.')\n",
        "\n",
        "# dropping 'Name'\n",
        "train.drop(columns = ['Name'], inplace = True)\n",
        "\n",
        "# previewing the changes\n",
        "train.sample(3)"
      ],
      "execution_count": 9,
      "outputs": [
        {
          "output_type": "execute_result",
          "data": {
            "text/plain": [
              "     PassengerId  Survived  Pclass     Sex   Age  SibSp  Parch  \\\n",
              "816          817         0       3  female  23.0      0      0   \n",
              "836          837         0       3    male  21.0      0      0   \n",
              "161          162         1       2  female  40.0      0      0   \n",
              "\n",
              "               Ticket     Fare Embarked Title  \n",
              "816  STON/O2. 3101290   7.9250        S  Miss  \n",
              "836            315097   8.6625        S    Mr  \n",
              "161        C.A. 33595  15.7500        S   Mrs  "
            ],
            "text/html": [
              "\n",
              "  <div id=\"df-54c3aee0-16d3-4955-9eac-e8442ee61f39\">\n",
              "    <div class=\"colab-df-container\">\n",
              "      <div>\n",
              "<style scoped>\n",
              "    .dataframe tbody tr th:only-of-type {\n",
              "        vertical-align: middle;\n",
              "    }\n",
              "\n",
              "    .dataframe tbody tr th {\n",
              "        vertical-align: top;\n",
              "    }\n",
              "\n",
              "    .dataframe thead th {\n",
              "        text-align: right;\n",
              "    }\n",
              "</style>\n",
              "<table border=\"1\" class=\"dataframe\">\n",
              "  <thead>\n",
              "    <tr style=\"text-align: right;\">\n",
              "      <th></th>\n",
              "      <th>PassengerId</th>\n",
              "      <th>Survived</th>\n",
              "      <th>Pclass</th>\n",
              "      <th>Sex</th>\n",
              "      <th>Age</th>\n",
              "      <th>SibSp</th>\n",
              "      <th>Parch</th>\n",
              "      <th>Ticket</th>\n",
              "      <th>Fare</th>\n",
              "      <th>Embarked</th>\n",
              "      <th>Title</th>\n",
              "    </tr>\n",
              "  </thead>\n",
              "  <tbody>\n",
              "    <tr>\n",
              "      <th>816</th>\n",
              "      <td>817</td>\n",
              "      <td>0</td>\n",
              "      <td>3</td>\n",
              "      <td>female</td>\n",
              "      <td>23.0</td>\n",
              "      <td>0</td>\n",
              "      <td>0</td>\n",
              "      <td>STON/O2. 3101290</td>\n",
              "      <td>7.9250</td>\n",
              "      <td>S</td>\n",
              "      <td>Miss</td>\n",
              "    </tr>\n",
              "    <tr>\n",
              "      <th>836</th>\n",
              "      <td>837</td>\n",
              "      <td>0</td>\n",
              "      <td>3</td>\n",
              "      <td>male</td>\n",
              "      <td>21.0</td>\n",
              "      <td>0</td>\n",
              "      <td>0</td>\n",
              "      <td>315097</td>\n",
              "      <td>8.6625</td>\n",
              "      <td>S</td>\n",
              "      <td>Mr</td>\n",
              "    </tr>\n",
              "    <tr>\n",
              "      <th>161</th>\n",
              "      <td>162</td>\n",
              "      <td>1</td>\n",
              "      <td>2</td>\n",
              "      <td>female</td>\n",
              "      <td>40.0</td>\n",
              "      <td>0</td>\n",
              "      <td>0</td>\n",
              "      <td>C.A. 33595</td>\n",
              "      <td>15.7500</td>\n",
              "      <td>S</td>\n",
              "      <td>Mrs</td>\n",
              "    </tr>\n",
              "  </tbody>\n",
              "</table>\n",
              "</div>\n",
              "      <button class=\"colab-df-convert\" onclick=\"convertToInteractive('df-54c3aee0-16d3-4955-9eac-e8442ee61f39')\"\n",
              "              title=\"Convert this dataframe to an interactive table.\"\n",
              "              style=\"display:none;\">\n",
              "        \n",
              "  <svg xmlns=\"http://www.w3.org/2000/svg\" height=\"24px\"viewBox=\"0 0 24 24\"\n",
              "       width=\"24px\">\n",
              "    <path d=\"M0 0h24v24H0V0z\" fill=\"none\"/>\n",
              "    <path d=\"M18.56 5.44l.94 2.06.94-2.06 2.06-.94-2.06-.94-.94-2.06-.94 2.06-2.06.94zm-11 1L8.5 8.5l.94-2.06 2.06-.94-2.06-.94L8.5 2.5l-.94 2.06-2.06.94zm10 10l.94 2.06.94-2.06 2.06-.94-2.06-.94-.94-2.06-.94 2.06-2.06.94z\"/><path d=\"M17.41 7.96l-1.37-1.37c-.4-.4-.92-.59-1.43-.59-.52 0-1.04.2-1.43.59L10.3 9.45l-7.72 7.72c-.78.78-.78 2.05 0 2.83L4 21.41c.39.39.9.59 1.41.59.51 0 1.02-.2 1.41-.59l7.78-7.78 2.81-2.81c.8-.78.8-2.07 0-2.86zM5.41 20L4 18.59l7.72-7.72 1.47 1.35L5.41 20z\"/>\n",
              "  </svg>\n",
              "      </button>\n",
              "      \n",
              "  <style>\n",
              "    .colab-df-container {\n",
              "      display:flex;\n",
              "      flex-wrap:wrap;\n",
              "      gap: 12px;\n",
              "    }\n",
              "\n",
              "    .colab-df-convert {\n",
              "      background-color: #E8F0FE;\n",
              "      border: none;\n",
              "      border-radius: 50%;\n",
              "      cursor: pointer;\n",
              "      display: none;\n",
              "      fill: #1967D2;\n",
              "      height: 32px;\n",
              "      padding: 0 0 0 0;\n",
              "      width: 32px;\n",
              "    }\n",
              "\n",
              "    .colab-df-convert:hover {\n",
              "      background-color: #E2EBFA;\n",
              "      box-shadow: 0px 1px 2px rgba(60, 64, 67, 0.3), 0px 1px 3px 1px rgba(60, 64, 67, 0.15);\n",
              "      fill: #174EA6;\n",
              "    }\n",
              "\n",
              "    [theme=dark] .colab-df-convert {\n",
              "      background-color: #3B4455;\n",
              "      fill: #D2E3FC;\n",
              "    }\n",
              "\n",
              "    [theme=dark] .colab-df-convert:hover {\n",
              "      background-color: #434B5C;\n",
              "      box-shadow: 0px 1px 3px 1px rgba(0, 0, 0, 0.15);\n",
              "      filter: drop-shadow(0px 1px 2px rgba(0, 0, 0, 0.3));\n",
              "      fill: #FFFFFF;\n",
              "    }\n",
              "  </style>\n",
              "\n",
              "      <script>\n",
              "        const buttonEl =\n",
              "          document.querySelector('#df-54c3aee0-16d3-4955-9eac-e8442ee61f39 button.colab-df-convert');\n",
              "        buttonEl.style.display =\n",
              "          google.colab.kernel.accessAllowed ? 'block' : 'none';\n",
              "\n",
              "        async function convertToInteractive(key) {\n",
              "          const element = document.querySelector('#df-54c3aee0-16d3-4955-9eac-e8442ee61f39');\n",
              "          const dataTable =\n",
              "            await google.colab.kernel.invokeFunction('convertToInteractive',\n",
              "                                                     [key], {});\n",
              "          if (!dataTable) return;\n",
              "\n",
              "          const docLinkHtml = 'Like what you see? Visit the ' +\n",
              "            '<a target=\"_blank\" href=https://colab.research.google.com/notebooks/data_table.ipynb>data table notebook</a>'\n",
              "            + ' to learn more about interactive tables.';\n",
              "          element.innerHTML = '';\n",
              "          dataTable['output_type'] = 'display_data';\n",
              "          await google.colab.output.renderOutput(dataTable, element);\n",
              "          const docLink = document.createElement('div');\n",
              "          docLink.innerHTML = docLinkHtml;\n",
              "          element.appendChild(docLink);\n",
              "        }\n",
              "      </script>\n",
              "    </div>\n",
              "  </div>\n",
              "  "
            ]
          },
          "metadata": {},
          "execution_count": 9
        }
      ]
    },
    {
      "cell_type": "code",
      "metadata": {
        "id": "4MXMCit4a5l_",
        "colab": {
          "base_uri": "https://localhost:8080/",
          "height": 143
        },
        "outputId": "aeee133b-89e2-450d-bdfa-b949192a8cfc"
      },
      "source": [
        "# Test\n",
        "# extracting the title from the name\n",
        "test['Title'] = test['Name'].str.extract('([A-Za-z]+)\\.')\n",
        "\n",
        "# dropping 'Name'\n",
        "test.drop(columns = ['Name'], inplace = True)\n",
        "\n",
        "# previewing the changes\n",
        "test.sample(3)"
      ],
      "execution_count": 10,
      "outputs": [
        {
          "output_type": "execute_result",
          "data": {
            "text/plain": [
              "     PassengerId  Pclass     Sex   Age  SibSp  Parch  Ticket     Fare  \\\n",
              "335         1227       1    male  30.0      0      0  110469  26.0000   \n",
              "209         1101       3    male  25.0      0      0  349250   7.8958   \n",
              "162         1054       2  female  26.0      0      0  220844  13.5000   \n",
              "\n",
              "    Embarked Title  \n",
              "335        S    Mr  \n",
              "209        S    Mr  \n",
              "162        S  Miss  "
            ],
            "text/html": [
              "\n",
              "  <div id=\"df-870ba666-1374-4ced-a6f0-2d444cd2f600\">\n",
              "    <div class=\"colab-df-container\">\n",
              "      <div>\n",
              "<style scoped>\n",
              "    .dataframe tbody tr th:only-of-type {\n",
              "        vertical-align: middle;\n",
              "    }\n",
              "\n",
              "    .dataframe tbody tr th {\n",
              "        vertical-align: top;\n",
              "    }\n",
              "\n",
              "    .dataframe thead th {\n",
              "        text-align: right;\n",
              "    }\n",
              "</style>\n",
              "<table border=\"1\" class=\"dataframe\">\n",
              "  <thead>\n",
              "    <tr style=\"text-align: right;\">\n",
              "      <th></th>\n",
              "      <th>PassengerId</th>\n",
              "      <th>Pclass</th>\n",
              "      <th>Sex</th>\n",
              "      <th>Age</th>\n",
              "      <th>SibSp</th>\n",
              "      <th>Parch</th>\n",
              "      <th>Ticket</th>\n",
              "      <th>Fare</th>\n",
              "      <th>Embarked</th>\n",
              "      <th>Title</th>\n",
              "    </tr>\n",
              "  </thead>\n",
              "  <tbody>\n",
              "    <tr>\n",
              "      <th>335</th>\n",
              "      <td>1227</td>\n",
              "      <td>1</td>\n",
              "      <td>male</td>\n",
              "      <td>30.0</td>\n",
              "      <td>0</td>\n",
              "      <td>0</td>\n",
              "      <td>110469</td>\n",
              "      <td>26.0000</td>\n",
              "      <td>S</td>\n",
              "      <td>Mr</td>\n",
              "    </tr>\n",
              "    <tr>\n",
              "      <th>209</th>\n",
              "      <td>1101</td>\n",
              "      <td>3</td>\n",
              "      <td>male</td>\n",
              "      <td>25.0</td>\n",
              "      <td>0</td>\n",
              "      <td>0</td>\n",
              "      <td>349250</td>\n",
              "      <td>7.8958</td>\n",
              "      <td>S</td>\n",
              "      <td>Mr</td>\n",
              "    </tr>\n",
              "    <tr>\n",
              "      <th>162</th>\n",
              "      <td>1054</td>\n",
              "      <td>2</td>\n",
              "      <td>female</td>\n",
              "      <td>26.0</td>\n",
              "      <td>0</td>\n",
              "      <td>0</td>\n",
              "      <td>220844</td>\n",
              "      <td>13.5000</td>\n",
              "      <td>S</td>\n",
              "      <td>Miss</td>\n",
              "    </tr>\n",
              "  </tbody>\n",
              "</table>\n",
              "</div>\n",
              "      <button class=\"colab-df-convert\" onclick=\"convertToInteractive('df-870ba666-1374-4ced-a6f0-2d444cd2f600')\"\n",
              "              title=\"Convert this dataframe to an interactive table.\"\n",
              "              style=\"display:none;\">\n",
              "        \n",
              "  <svg xmlns=\"http://www.w3.org/2000/svg\" height=\"24px\"viewBox=\"0 0 24 24\"\n",
              "       width=\"24px\">\n",
              "    <path d=\"M0 0h24v24H0V0z\" fill=\"none\"/>\n",
              "    <path d=\"M18.56 5.44l.94 2.06.94-2.06 2.06-.94-2.06-.94-.94-2.06-.94 2.06-2.06.94zm-11 1L8.5 8.5l.94-2.06 2.06-.94-2.06-.94L8.5 2.5l-.94 2.06-2.06.94zm10 10l.94 2.06.94-2.06 2.06-.94-2.06-.94-.94-2.06-.94 2.06-2.06.94z\"/><path d=\"M17.41 7.96l-1.37-1.37c-.4-.4-.92-.59-1.43-.59-.52 0-1.04.2-1.43.59L10.3 9.45l-7.72 7.72c-.78.78-.78 2.05 0 2.83L4 21.41c.39.39.9.59 1.41.59.51 0 1.02-.2 1.41-.59l7.78-7.78 2.81-2.81c.8-.78.8-2.07 0-2.86zM5.41 20L4 18.59l7.72-7.72 1.47 1.35L5.41 20z\"/>\n",
              "  </svg>\n",
              "      </button>\n",
              "      \n",
              "  <style>\n",
              "    .colab-df-container {\n",
              "      display:flex;\n",
              "      flex-wrap:wrap;\n",
              "      gap: 12px;\n",
              "    }\n",
              "\n",
              "    .colab-df-convert {\n",
              "      background-color: #E8F0FE;\n",
              "      border: none;\n",
              "      border-radius: 50%;\n",
              "      cursor: pointer;\n",
              "      display: none;\n",
              "      fill: #1967D2;\n",
              "      height: 32px;\n",
              "      padding: 0 0 0 0;\n",
              "      width: 32px;\n",
              "    }\n",
              "\n",
              "    .colab-df-convert:hover {\n",
              "      background-color: #E2EBFA;\n",
              "      box-shadow: 0px 1px 2px rgba(60, 64, 67, 0.3), 0px 1px 3px 1px rgba(60, 64, 67, 0.15);\n",
              "      fill: #174EA6;\n",
              "    }\n",
              "\n",
              "    [theme=dark] .colab-df-convert {\n",
              "      background-color: #3B4455;\n",
              "      fill: #D2E3FC;\n",
              "    }\n",
              "\n",
              "    [theme=dark] .colab-df-convert:hover {\n",
              "      background-color: #434B5C;\n",
              "      box-shadow: 0px 1px 3px 1px rgba(0, 0, 0, 0.15);\n",
              "      filter: drop-shadow(0px 1px 2px rgba(0, 0, 0, 0.3));\n",
              "      fill: #FFFFFF;\n",
              "    }\n",
              "  </style>\n",
              "\n",
              "      <script>\n",
              "        const buttonEl =\n",
              "          document.querySelector('#df-870ba666-1374-4ced-a6f0-2d444cd2f600 button.colab-df-convert');\n",
              "        buttonEl.style.display =\n",
              "          google.colab.kernel.accessAllowed ? 'block' : 'none';\n",
              "\n",
              "        async function convertToInteractive(key) {\n",
              "          const element = document.querySelector('#df-870ba666-1374-4ced-a6f0-2d444cd2f600');\n",
              "          const dataTable =\n",
              "            await google.colab.kernel.invokeFunction('convertToInteractive',\n",
              "                                                     [key], {});\n",
              "          if (!dataTable) return;\n",
              "\n",
              "          const docLinkHtml = 'Like what you see? Visit the ' +\n",
              "            '<a target=\"_blank\" href=https://colab.research.google.com/notebooks/data_table.ipynb>data table notebook</a>'\n",
              "            + ' to learn more about interactive tables.';\n",
              "          element.innerHTML = '';\n",
              "          dataTable['output_type'] = 'display_data';\n",
              "          await google.colab.output.renderOutput(dataTable, element);\n",
              "          const docLink = document.createElement('div');\n",
              "          docLink.innerHTML = docLinkHtml;\n",
              "          element.appendChild(docLink);\n",
              "        }\n",
              "      </script>\n",
              "    </div>\n",
              "  </div>\n",
              "  "
            ]
          },
          "metadata": {},
          "execution_count": 10
        }
      ]
    },
    {
      "cell_type": "markdown",
      "metadata": {
        "id": "78617344a5mC"
      },
      "source": [
        "### 3.1.2 Getting the Family Size"
      ]
    },
    {
      "cell_type": "code",
      "metadata": {
        "id": "Jud7e3hua5mD",
        "colab": {
          "base_uri": "https://localhost:8080/",
          "height": 143
        },
        "outputId": "3154259e-5df2-4fcb-ecee-8b36a7e620f7"
      },
      "source": [
        "# Train\n",
        "# add new column 'FamilySize' which consists of SibSp plus Parch plus 1 (the passenger himself/herself)\n",
        "train[\"FamilySize\"] = train[\"SibSp\"] + train[\"Parch\"] + 1\n",
        "\n",
        "train.sample(3)\n",
        "\n",
        "\n",
        "#X_train = df_train.drop(\"Survived\", axis=1)\n",
        "#y_train = df_train.Survived\n",
        "\n",
        "#X_test = df_test.copy()"
      ],
      "execution_count": 11,
      "outputs": [
        {
          "output_type": "execute_result",
          "data": {
            "text/plain": [
              "     PassengerId  Survived  Pclass     Sex   Age  SibSp  Parch  \\\n",
              "100          101         0       3  female  28.0      0      0   \n",
              "115          116         0       3    male  21.0      0      0   \n",
              "373          374         0       1    male  22.0      0      0   \n",
              "\n",
              "                Ticket      Fare Embarked Title  FamilySize  \n",
              "100             349245    7.8958        S  Miss           1  \n",
              "115  STON/O 2. 3101294    7.9250        S    Mr           1  \n",
              "373           PC 17760  135.6333        C    Mr           1  "
            ],
            "text/html": [
              "\n",
              "  <div id=\"df-282a6412-8a9b-4c4b-b8e8-b12b728f9b5b\">\n",
              "    <div class=\"colab-df-container\">\n",
              "      <div>\n",
              "<style scoped>\n",
              "    .dataframe tbody tr th:only-of-type {\n",
              "        vertical-align: middle;\n",
              "    }\n",
              "\n",
              "    .dataframe tbody tr th {\n",
              "        vertical-align: top;\n",
              "    }\n",
              "\n",
              "    .dataframe thead th {\n",
              "        text-align: right;\n",
              "    }\n",
              "</style>\n",
              "<table border=\"1\" class=\"dataframe\">\n",
              "  <thead>\n",
              "    <tr style=\"text-align: right;\">\n",
              "      <th></th>\n",
              "      <th>PassengerId</th>\n",
              "      <th>Survived</th>\n",
              "      <th>Pclass</th>\n",
              "      <th>Sex</th>\n",
              "      <th>Age</th>\n",
              "      <th>SibSp</th>\n",
              "      <th>Parch</th>\n",
              "      <th>Ticket</th>\n",
              "      <th>Fare</th>\n",
              "      <th>Embarked</th>\n",
              "      <th>Title</th>\n",
              "      <th>FamilySize</th>\n",
              "    </tr>\n",
              "  </thead>\n",
              "  <tbody>\n",
              "    <tr>\n",
              "      <th>100</th>\n",
              "      <td>101</td>\n",
              "      <td>0</td>\n",
              "      <td>3</td>\n",
              "      <td>female</td>\n",
              "      <td>28.0</td>\n",
              "      <td>0</td>\n",
              "      <td>0</td>\n",
              "      <td>349245</td>\n",
              "      <td>7.8958</td>\n",
              "      <td>S</td>\n",
              "      <td>Miss</td>\n",
              "      <td>1</td>\n",
              "    </tr>\n",
              "    <tr>\n",
              "      <th>115</th>\n",
              "      <td>116</td>\n",
              "      <td>0</td>\n",
              "      <td>3</td>\n",
              "      <td>male</td>\n",
              "      <td>21.0</td>\n",
              "      <td>0</td>\n",
              "      <td>0</td>\n",
              "      <td>STON/O 2. 3101294</td>\n",
              "      <td>7.9250</td>\n",
              "      <td>S</td>\n",
              "      <td>Mr</td>\n",
              "      <td>1</td>\n",
              "    </tr>\n",
              "    <tr>\n",
              "      <th>373</th>\n",
              "      <td>374</td>\n",
              "      <td>0</td>\n",
              "      <td>1</td>\n",
              "      <td>male</td>\n",
              "      <td>22.0</td>\n",
              "      <td>0</td>\n",
              "      <td>0</td>\n",
              "      <td>PC 17760</td>\n",
              "      <td>135.6333</td>\n",
              "      <td>C</td>\n",
              "      <td>Mr</td>\n",
              "      <td>1</td>\n",
              "    </tr>\n",
              "  </tbody>\n",
              "</table>\n",
              "</div>\n",
              "      <button class=\"colab-df-convert\" onclick=\"convertToInteractive('df-282a6412-8a9b-4c4b-b8e8-b12b728f9b5b')\"\n",
              "              title=\"Convert this dataframe to an interactive table.\"\n",
              "              style=\"display:none;\">\n",
              "        \n",
              "  <svg xmlns=\"http://www.w3.org/2000/svg\" height=\"24px\"viewBox=\"0 0 24 24\"\n",
              "       width=\"24px\">\n",
              "    <path d=\"M0 0h24v24H0V0z\" fill=\"none\"/>\n",
              "    <path d=\"M18.56 5.44l.94 2.06.94-2.06 2.06-.94-2.06-.94-.94-2.06-.94 2.06-2.06.94zm-11 1L8.5 8.5l.94-2.06 2.06-.94-2.06-.94L8.5 2.5l-.94 2.06-2.06.94zm10 10l.94 2.06.94-2.06 2.06-.94-2.06-.94-.94-2.06-.94 2.06-2.06.94z\"/><path d=\"M17.41 7.96l-1.37-1.37c-.4-.4-.92-.59-1.43-.59-.52 0-1.04.2-1.43.59L10.3 9.45l-7.72 7.72c-.78.78-.78 2.05 0 2.83L4 21.41c.39.39.9.59 1.41.59.51 0 1.02-.2 1.41-.59l7.78-7.78 2.81-2.81c.8-.78.8-2.07 0-2.86zM5.41 20L4 18.59l7.72-7.72 1.47 1.35L5.41 20z\"/>\n",
              "  </svg>\n",
              "      </button>\n",
              "      \n",
              "  <style>\n",
              "    .colab-df-container {\n",
              "      display:flex;\n",
              "      flex-wrap:wrap;\n",
              "      gap: 12px;\n",
              "    }\n",
              "\n",
              "    .colab-df-convert {\n",
              "      background-color: #E8F0FE;\n",
              "      border: none;\n",
              "      border-radius: 50%;\n",
              "      cursor: pointer;\n",
              "      display: none;\n",
              "      fill: #1967D2;\n",
              "      height: 32px;\n",
              "      padding: 0 0 0 0;\n",
              "      width: 32px;\n",
              "    }\n",
              "\n",
              "    .colab-df-convert:hover {\n",
              "      background-color: #E2EBFA;\n",
              "      box-shadow: 0px 1px 2px rgba(60, 64, 67, 0.3), 0px 1px 3px 1px rgba(60, 64, 67, 0.15);\n",
              "      fill: #174EA6;\n",
              "    }\n",
              "\n",
              "    [theme=dark] .colab-df-convert {\n",
              "      background-color: #3B4455;\n",
              "      fill: #D2E3FC;\n",
              "    }\n",
              "\n",
              "    [theme=dark] .colab-df-convert:hover {\n",
              "      background-color: #434B5C;\n",
              "      box-shadow: 0px 1px 3px 1px rgba(0, 0, 0, 0.15);\n",
              "      filter: drop-shadow(0px 1px 2px rgba(0, 0, 0, 0.3));\n",
              "      fill: #FFFFFF;\n",
              "    }\n",
              "  </style>\n",
              "\n",
              "      <script>\n",
              "        const buttonEl =\n",
              "          document.querySelector('#df-282a6412-8a9b-4c4b-b8e8-b12b728f9b5b button.colab-df-convert');\n",
              "        buttonEl.style.display =\n",
              "          google.colab.kernel.accessAllowed ? 'block' : 'none';\n",
              "\n",
              "        async function convertToInteractive(key) {\n",
              "          const element = document.querySelector('#df-282a6412-8a9b-4c4b-b8e8-b12b728f9b5b');\n",
              "          const dataTable =\n",
              "            await google.colab.kernel.invokeFunction('convertToInteractive',\n",
              "                                                     [key], {});\n",
              "          if (!dataTable) return;\n",
              "\n",
              "          const docLinkHtml = 'Like what you see? Visit the ' +\n",
              "            '<a target=\"_blank\" href=https://colab.research.google.com/notebooks/data_table.ipynb>data table notebook</a>'\n",
              "            + ' to learn more about interactive tables.';\n",
              "          element.innerHTML = '';\n",
              "          dataTable['output_type'] = 'display_data';\n",
              "          await google.colab.output.renderOutput(dataTable, element);\n",
              "          const docLink = document.createElement('div');\n",
              "          docLink.innerHTML = docLinkHtml;\n",
              "          element.appendChild(docLink);\n",
              "        }\n",
              "      </script>\n",
              "    </div>\n",
              "  </div>\n",
              "  "
            ]
          },
          "metadata": {},
          "execution_count": 11
        }
      ]
    },
    {
      "cell_type": "code",
      "metadata": {
        "id": "WX0zjKXHa5mF",
        "colab": {
          "base_uri": "https://localhost:8080/",
          "height": 143
        },
        "outputId": "21684ea3-fc76-443d-ea16-05a5de7c0f19"
      },
      "source": [
        "# Test\n",
        "# add new column 'FamilySize' which consists of SibSp plus Parch plus 1 (the passenger himself/herself)\n",
        "\n",
        "test[\"FamilySize\"] = test[\"SibSp\"] + test[\"Parch\"] + 1\n",
        "\n",
        "test.sample(3)"
      ],
      "execution_count": 12,
      "outputs": [
        {
          "output_type": "execute_result",
          "data": {
            "text/plain": [
              "     PassengerId  Pclass   Sex       Age  SibSp  Parch    Ticket      Fare  \\\n",
              "312         1204       3  male  30.27259      0      0   LP 1588    7.5750   \n",
              "81           973       1  male  67.00000      1      0  PC 17483  221.7792   \n",
              "344         1236       3  male  30.27259      1      1  A/5. 851   14.5000   \n",
              "\n",
              "    Embarked   Title  FamilySize  \n",
              "312        S      Mr           1  \n",
              "81         S      Mr           2  \n",
              "344        S  Master           3  "
            ],
            "text/html": [
              "\n",
              "  <div id=\"df-c89dc654-9754-4f64-8970-1d6b22ced3e1\">\n",
              "    <div class=\"colab-df-container\">\n",
              "      <div>\n",
              "<style scoped>\n",
              "    .dataframe tbody tr th:only-of-type {\n",
              "        vertical-align: middle;\n",
              "    }\n",
              "\n",
              "    .dataframe tbody tr th {\n",
              "        vertical-align: top;\n",
              "    }\n",
              "\n",
              "    .dataframe thead th {\n",
              "        text-align: right;\n",
              "    }\n",
              "</style>\n",
              "<table border=\"1\" class=\"dataframe\">\n",
              "  <thead>\n",
              "    <tr style=\"text-align: right;\">\n",
              "      <th></th>\n",
              "      <th>PassengerId</th>\n",
              "      <th>Pclass</th>\n",
              "      <th>Sex</th>\n",
              "      <th>Age</th>\n",
              "      <th>SibSp</th>\n",
              "      <th>Parch</th>\n",
              "      <th>Ticket</th>\n",
              "      <th>Fare</th>\n",
              "      <th>Embarked</th>\n",
              "      <th>Title</th>\n",
              "      <th>FamilySize</th>\n",
              "    </tr>\n",
              "  </thead>\n",
              "  <tbody>\n",
              "    <tr>\n",
              "      <th>312</th>\n",
              "      <td>1204</td>\n",
              "      <td>3</td>\n",
              "      <td>male</td>\n",
              "      <td>30.27259</td>\n",
              "      <td>0</td>\n",
              "      <td>0</td>\n",
              "      <td>LP 1588</td>\n",
              "      <td>7.5750</td>\n",
              "      <td>S</td>\n",
              "      <td>Mr</td>\n",
              "      <td>1</td>\n",
              "    </tr>\n",
              "    <tr>\n",
              "      <th>81</th>\n",
              "      <td>973</td>\n",
              "      <td>1</td>\n",
              "      <td>male</td>\n",
              "      <td>67.00000</td>\n",
              "      <td>1</td>\n",
              "      <td>0</td>\n",
              "      <td>PC 17483</td>\n",
              "      <td>221.7792</td>\n",
              "      <td>S</td>\n",
              "      <td>Mr</td>\n",
              "      <td>2</td>\n",
              "    </tr>\n",
              "    <tr>\n",
              "      <th>344</th>\n",
              "      <td>1236</td>\n",
              "      <td>3</td>\n",
              "      <td>male</td>\n",
              "      <td>30.27259</td>\n",
              "      <td>1</td>\n",
              "      <td>1</td>\n",
              "      <td>A/5. 851</td>\n",
              "      <td>14.5000</td>\n",
              "      <td>S</td>\n",
              "      <td>Master</td>\n",
              "      <td>3</td>\n",
              "    </tr>\n",
              "  </tbody>\n",
              "</table>\n",
              "</div>\n",
              "      <button class=\"colab-df-convert\" onclick=\"convertToInteractive('df-c89dc654-9754-4f64-8970-1d6b22ced3e1')\"\n",
              "              title=\"Convert this dataframe to an interactive table.\"\n",
              "              style=\"display:none;\">\n",
              "        \n",
              "  <svg xmlns=\"http://www.w3.org/2000/svg\" height=\"24px\"viewBox=\"0 0 24 24\"\n",
              "       width=\"24px\">\n",
              "    <path d=\"M0 0h24v24H0V0z\" fill=\"none\"/>\n",
              "    <path d=\"M18.56 5.44l.94 2.06.94-2.06 2.06-.94-2.06-.94-.94-2.06-.94 2.06-2.06.94zm-11 1L8.5 8.5l.94-2.06 2.06-.94-2.06-.94L8.5 2.5l-.94 2.06-2.06.94zm10 10l.94 2.06.94-2.06 2.06-.94-2.06-.94-.94-2.06-.94 2.06-2.06.94z\"/><path d=\"M17.41 7.96l-1.37-1.37c-.4-.4-.92-.59-1.43-.59-.52 0-1.04.2-1.43.59L10.3 9.45l-7.72 7.72c-.78.78-.78 2.05 0 2.83L4 21.41c.39.39.9.59 1.41.59.51 0 1.02-.2 1.41-.59l7.78-7.78 2.81-2.81c.8-.78.8-2.07 0-2.86zM5.41 20L4 18.59l7.72-7.72 1.47 1.35L5.41 20z\"/>\n",
              "  </svg>\n",
              "      </button>\n",
              "      \n",
              "  <style>\n",
              "    .colab-df-container {\n",
              "      display:flex;\n",
              "      flex-wrap:wrap;\n",
              "      gap: 12px;\n",
              "    }\n",
              "\n",
              "    .colab-df-convert {\n",
              "      background-color: #E8F0FE;\n",
              "      border: none;\n",
              "      border-radius: 50%;\n",
              "      cursor: pointer;\n",
              "      display: none;\n",
              "      fill: #1967D2;\n",
              "      height: 32px;\n",
              "      padding: 0 0 0 0;\n",
              "      width: 32px;\n",
              "    }\n",
              "\n",
              "    .colab-df-convert:hover {\n",
              "      background-color: #E2EBFA;\n",
              "      box-shadow: 0px 1px 2px rgba(60, 64, 67, 0.3), 0px 1px 3px 1px rgba(60, 64, 67, 0.15);\n",
              "      fill: #174EA6;\n",
              "    }\n",
              "\n",
              "    [theme=dark] .colab-df-convert {\n",
              "      background-color: #3B4455;\n",
              "      fill: #D2E3FC;\n",
              "    }\n",
              "\n",
              "    [theme=dark] .colab-df-convert:hover {\n",
              "      background-color: #434B5C;\n",
              "      box-shadow: 0px 1px 3px 1px rgba(0, 0, 0, 0.15);\n",
              "      filter: drop-shadow(0px 1px 2px rgba(0, 0, 0, 0.3));\n",
              "      fill: #FFFFFF;\n",
              "    }\n",
              "  </style>\n",
              "\n",
              "      <script>\n",
              "        const buttonEl =\n",
              "          document.querySelector('#df-c89dc654-9754-4f64-8970-1d6b22ced3e1 button.colab-df-convert');\n",
              "        buttonEl.style.display =\n",
              "          google.colab.kernel.accessAllowed ? 'block' : 'none';\n",
              "\n",
              "        async function convertToInteractive(key) {\n",
              "          const element = document.querySelector('#df-c89dc654-9754-4f64-8970-1d6b22ced3e1');\n",
              "          const dataTable =\n",
              "            await google.colab.kernel.invokeFunction('convertToInteractive',\n",
              "                                                     [key], {});\n",
              "          if (!dataTable) return;\n",
              "\n",
              "          const docLinkHtml = 'Like what you see? Visit the ' +\n",
              "            '<a target=\"_blank\" href=https://colab.research.google.com/notebooks/data_table.ipynb>data table notebook</a>'\n",
              "            + ' to learn more about interactive tables.';\n",
              "          element.innerHTML = '';\n",
              "          dataTable['output_type'] = 'display_data';\n",
              "          await google.colab.output.renderOutput(dataTable, element);\n",
              "          const docLink = document.createElement('div');\n",
              "          docLink.innerHTML = docLinkHtml;\n",
              "          element.appendChild(docLink);\n",
              "        }\n",
              "      </script>\n",
              "    </div>\n",
              "  </div>\n",
              "  "
            ]
          },
          "metadata": {},
          "execution_count": 12
        }
      ]
    },
    {
      "cell_type": "markdown",
      "metadata": {
        "id": "k0Ub2aHha5mI"
      },
      "source": [
        "### 3.1.3 Getting the Fare per Person"
      ]
    },
    {
      "cell_type": "code",
      "metadata": {
        "id": "1S71t2N1a5mI",
        "colab": {
          "base_uri": "https://localhost:8080/",
          "height": 143
        },
        "outputId": "2f0e6877-865b-4897-fda1-31ca552e14b5"
      },
      "source": [
        "# Train\n",
        "# create new variable 'FarePerPerson' which is Fare / FamilySize\n",
        "\n",
        "train[\"FarePerPerson\"] = train[\"Fare\"] / train[\"FamilySize\"]\n",
        "\n",
        "train.sample(3)"
      ],
      "execution_count": 13,
      "outputs": [
        {
          "output_type": "execute_result",
          "data": {
            "text/plain": [
              "     PassengerId  Survived  Pclass     Sex        Age  SibSp  Parch    Ticket  \\\n",
              "505          506         0       1    male  18.000000      1      0  PC 17758   \n",
              "808          809         0       2    male  39.000000      0      0    248723   \n",
              "431          432         1       3  female  29.699118      1      0    376564   \n",
              "\n",
              "      Fare Embarked Title  FamilySize  FarePerPerson  \n",
              "505  108.9        C    Mr           2          54.45  \n",
              "808   13.0        S    Mr           1          13.00  \n",
              "431   16.1        S   Mrs           2           8.05  "
            ],
            "text/html": [
              "\n",
              "  <div id=\"df-853d8254-a3e9-4a13-8a81-cc496c178afb\">\n",
              "    <div class=\"colab-df-container\">\n",
              "      <div>\n",
              "<style scoped>\n",
              "    .dataframe tbody tr th:only-of-type {\n",
              "        vertical-align: middle;\n",
              "    }\n",
              "\n",
              "    .dataframe tbody tr th {\n",
              "        vertical-align: top;\n",
              "    }\n",
              "\n",
              "    .dataframe thead th {\n",
              "        text-align: right;\n",
              "    }\n",
              "</style>\n",
              "<table border=\"1\" class=\"dataframe\">\n",
              "  <thead>\n",
              "    <tr style=\"text-align: right;\">\n",
              "      <th></th>\n",
              "      <th>PassengerId</th>\n",
              "      <th>Survived</th>\n",
              "      <th>Pclass</th>\n",
              "      <th>Sex</th>\n",
              "      <th>Age</th>\n",
              "      <th>SibSp</th>\n",
              "      <th>Parch</th>\n",
              "      <th>Ticket</th>\n",
              "      <th>Fare</th>\n",
              "      <th>Embarked</th>\n",
              "      <th>Title</th>\n",
              "      <th>FamilySize</th>\n",
              "      <th>FarePerPerson</th>\n",
              "    </tr>\n",
              "  </thead>\n",
              "  <tbody>\n",
              "    <tr>\n",
              "      <th>505</th>\n",
              "      <td>506</td>\n",
              "      <td>0</td>\n",
              "      <td>1</td>\n",
              "      <td>male</td>\n",
              "      <td>18.000000</td>\n",
              "      <td>1</td>\n",
              "      <td>0</td>\n",
              "      <td>PC 17758</td>\n",
              "      <td>108.9</td>\n",
              "      <td>C</td>\n",
              "      <td>Mr</td>\n",
              "      <td>2</td>\n",
              "      <td>54.45</td>\n",
              "    </tr>\n",
              "    <tr>\n",
              "      <th>808</th>\n",
              "      <td>809</td>\n",
              "      <td>0</td>\n",
              "      <td>2</td>\n",
              "      <td>male</td>\n",
              "      <td>39.000000</td>\n",
              "      <td>0</td>\n",
              "      <td>0</td>\n",
              "      <td>248723</td>\n",
              "      <td>13.0</td>\n",
              "      <td>S</td>\n",
              "      <td>Mr</td>\n",
              "      <td>1</td>\n",
              "      <td>13.00</td>\n",
              "    </tr>\n",
              "    <tr>\n",
              "      <th>431</th>\n",
              "      <td>432</td>\n",
              "      <td>1</td>\n",
              "      <td>3</td>\n",
              "      <td>female</td>\n",
              "      <td>29.699118</td>\n",
              "      <td>1</td>\n",
              "      <td>0</td>\n",
              "      <td>376564</td>\n",
              "      <td>16.1</td>\n",
              "      <td>S</td>\n",
              "      <td>Mrs</td>\n",
              "      <td>2</td>\n",
              "      <td>8.05</td>\n",
              "    </tr>\n",
              "  </tbody>\n",
              "</table>\n",
              "</div>\n",
              "      <button class=\"colab-df-convert\" onclick=\"convertToInteractive('df-853d8254-a3e9-4a13-8a81-cc496c178afb')\"\n",
              "              title=\"Convert this dataframe to an interactive table.\"\n",
              "              style=\"display:none;\">\n",
              "        \n",
              "  <svg xmlns=\"http://www.w3.org/2000/svg\" height=\"24px\"viewBox=\"0 0 24 24\"\n",
              "       width=\"24px\">\n",
              "    <path d=\"M0 0h24v24H0V0z\" fill=\"none\"/>\n",
              "    <path d=\"M18.56 5.44l.94 2.06.94-2.06 2.06-.94-2.06-.94-.94-2.06-.94 2.06-2.06.94zm-11 1L8.5 8.5l.94-2.06 2.06-.94-2.06-.94L8.5 2.5l-.94 2.06-2.06.94zm10 10l.94 2.06.94-2.06 2.06-.94-2.06-.94-.94-2.06-.94 2.06-2.06.94z\"/><path d=\"M17.41 7.96l-1.37-1.37c-.4-.4-.92-.59-1.43-.59-.52 0-1.04.2-1.43.59L10.3 9.45l-7.72 7.72c-.78.78-.78 2.05 0 2.83L4 21.41c.39.39.9.59 1.41.59.51 0 1.02-.2 1.41-.59l7.78-7.78 2.81-2.81c.8-.78.8-2.07 0-2.86zM5.41 20L4 18.59l7.72-7.72 1.47 1.35L5.41 20z\"/>\n",
              "  </svg>\n",
              "      </button>\n",
              "      \n",
              "  <style>\n",
              "    .colab-df-container {\n",
              "      display:flex;\n",
              "      flex-wrap:wrap;\n",
              "      gap: 12px;\n",
              "    }\n",
              "\n",
              "    .colab-df-convert {\n",
              "      background-color: #E8F0FE;\n",
              "      border: none;\n",
              "      border-radius: 50%;\n",
              "      cursor: pointer;\n",
              "      display: none;\n",
              "      fill: #1967D2;\n",
              "      height: 32px;\n",
              "      padding: 0 0 0 0;\n",
              "      width: 32px;\n",
              "    }\n",
              "\n",
              "    .colab-df-convert:hover {\n",
              "      background-color: #E2EBFA;\n",
              "      box-shadow: 0px 1px 2px rgba(60, 64, 67, 0.3), 0px 1px 3px 1px rgba(60, 64, 67, 0.15);\n",
              "      fill: #174EA6;\n",
              "    }\n",
              "\n",
              "    [theme=dark] .colab-df-convert {\n",
              "      background-color: #3B4455;\n",
              "      fill: #D2E3FC;\n",
              "    }\n",
              "\n",
              "    [theme=dark] .colab-df-convert:hover {\n",
              "      background-color: #434B5C;\n",
              "      box-shadow: 0px 1px 3px 1px rgba(0, 0, 0, 0.15);\n",
              "      filter: drop-shadow(0px 1px 2px rgba(0, 0, 0, 0.3));\n",
              "      fill: #FFFFFF;\n",
              "    }\n",
              "  </style>\n",
              "\n",
              "      <script>\n",
              "        const buttonEl =\n",
              "          document.querySelector('#df-853d8254-a3e9-4a13-8a81-cc496c178afb button.colab-df-convert');\n",
              "        buttonEl.style.display =\n",
              "          google.colab.kernel.accessAllowed ? 'block' : 'none';\n",
              "\n",
              "        async function convertToInteractive(key) {\n",
              "          const element = document.querySelector('#df-853d8254-a3e9-4a13-8a81-cc496c178afb');\n",
              "          const dataTable =\n",
              "            await google.colab.kernel.invokeFunction('convertToInteractive',\n",
              "                                                     [key], {});\n",
              "          if (!dataTable) return;\n",
              "\n",
              "          const docLinkHtml = 'Like what you see? Visit the ' +\n",
              "            '<a target=\"_blank\" href=https://colab.research.google.com/notebooks/data_table.ipynb>data table notebook</a>'\n",
              "            + ' to learn more about interactive tables.';\n",
              "          element.innerHTML = '';\n",
              "          dataTable['output_type'] = 'display_data';\n",
              "          await google.colab.output.renderOutput(dataTable, element);\n",
              "          const docLink = document.createElement('div');\n",
              "          docLink.innerHTML = docLinkHtml;\n",
              "          element.appendChild(docLink);\n",
              "        }\n",
              "      </script>\n",
              "    </div>\n",
              "  </div>\n",
              "  "
            ]
          },
          "metadata": {},
          "execution_count": 13
        }
      ]
    },
    {
      "cell_type": "code",
      "metadata": {
        "id": "GSxJ9U3Da5mL",
        "colab": {
          "base_uri": "https://localhost:8080/",
          "height": 143
        },
        "outputId": "ec16606f-76f0-4331-903e-fb7ac13e4d43"
      },
      "source": [
        "# Test\n",
        "# create new variable 'FarePerPerson' which is Fare / FamilySize\n",
        "\n",
        "test[\"FarePerPerson\"] = test[\"Fare\"] / test[\"FamilySize\"]\n",
        "\n",
        "test.sample(3)"
      ],
      "execution_count": 14,
      "outputs": [
        {
          "output_type": "execute_result",
          "data": {
            "text/plain": [
              "     PassengerId  Pclass     Sex   Age  SibSp  Parch             Ticket  \\\n",
              "45           937       3    male  25.0      0      0  STON/O 2. 3101291   \n",
              "175         1067       2  female  15.0      0      2              29750   \n",
              "79           971       3  female  24.0      0      0             368702   \n",
              "\n",
              "       Fare Embarked Title  FamilySize  FarePerPerson  \n",
              "45    7.925        S    Mr           1          7.925  \n",
              "175  39.000        S  Miss           3         13.000  \n",
              "79    7.750        Q  Miss           1          7.750  "
            ],
            "text/html": [
              "\n",
              "  <div id=\"df-a649d335-66e2-40dc-811b-02d24023c352\">\n",
              "    <div class=\"colab-df-container\">\n",
              "      <div>\n",
              "<style scoped>\n",
              "    .dataframe tbody tr th:only-of-type {\n",
              "        vertical-align: middle;\n",
              "    }\n",
              "\n",
              "    .dataframe tbody tr th {\n",
              "        vertical-align: top;\n",
              "    }\n",
              "\n",
              "    .dataframe thead th {\n",
              "        text-align: right;\n",
              "    }\n",
              "</style>\n",
              "<table border=\"1\" class=\"dataframe\">\n",
              "  <thead>\n",
              "    <tr style=\"text-align: right;\">\n",
              "      <th></th>\n",
              "      <th>PassengerId</th>\n",
              "      <th>Pclass</th>\n",
              "      <th>Sex</th>\n",
              "      <th>Age</th>\n",
              "      <th>SibSp</th>\n",
              "      <th>Parch</th>\n",
              "      <th>Ticket</th>\n",
              "      <th>Fare</th>\n",
              "      <th>Embarked</th>\n",
              "      <th>Title</th>\n",
              "      <th>FamilySize</th>\n",
              "      <th>FarePerPerson</th>\n",
              "    </tr>\n",
              "  </thead>\n",
              "  <tbody>\n",
              "    <tr>\n",
              "      <th>45</th>\n",
              "      <td>937</td>\n",
              "      <td>3</td>\n",
              "      <td>male</td>\n",
              "      <td>25.0</td>\n",
              "      <td>0</td>\n",
              "      <td>0</td>\n",
              "      <td>STON/O 2. 3101291</td>\n",
              "      <td>7.925</td>\n",
              "      <td>S</td>\n",
              "      <td>Mr</td>\n",
              "      <td>1</td>\n",
              "      <td>7.925</td>\n",
              "    </tr>\n",
              "    <tr>\n",
              "      <th>175</th>\n",
              "      <td>1067</td>\n",
              "      <td>2</td>\n",
              "      <td>female</td>\n",
              "      <td>15.0</td>\n",
              "      <td>0</td>\n",
              "      <td>2</td>\n",
              "      <td>29750</td>\n",
              "      <td>39.000</td>\n",
              "      <td>S</td>\n",
              "      <td>Miss</td>\n",
              "      <td>3</td>\n",
              "      <td>13.000</td>\n",
              "    </tr>\n",
              "    <tr>\n",
              "      <th>79</th>\n",
              "      <td>971</td>\n",
              "      <td>3</td>\n",
              "      <td>female</td>\n",
              "      <td>24.0</td>\n",
              "      <td>0</td>\n",
              "      <td>0</td>\n",
              "      <td>368702</td>\n",
              "      <td>7.750</td>\n",
              "      <td>Q</td>\n",
              "      <td>Miss</td>\n",
              "      <td>1</td>\n",
              "      <td>7.750</td>\n",
              "    </tr>\n",
              "  </tbody>\n",
              "</table>\n",
              "</div>\n",
              "      <button class=\"colab-df-convert\" onclick=\"convertToInteractive('df-a649d335-66e2-40dc-811b-02d24023c352')\"\n",
              "              title=\"Convert this dataframe to an interactive table.\"\n",
              "              style=\"display:none;\">\n",
              "        \n",
              "  <svg xmlns=\"http://www.w3.org/2000/svg\" height=\"24px\"viewBox=\"0 0 24 24\"\n",
              "       width=\"24px\">\n",
              "    <path d=\"M0 0h24v24H0V0z\" fill=\"none\"/>\n",
              "    <path d=\"M18.56 5.44l.94 2.06.94-2.06 2.06-.94-2.06-.94-.94-2.06-.94 2.06-2.06.94zm-11 1L8.5 8.5l.94-2.06 2.06-.94-2.06-.94L8.5 2.5l-.94 2.06-2.06.94zm10 10l.94 2.06.94-2.06 2.06-.94-2.06-.94-.94-2.06-.94 2.06-2.06.94z\"/><path d=\"M17.41 7.96l-1.37-1.37c-.4-.4-.92-.59-1.43-.59-.52 0-1.04.2-1.43.59L10.3 9.45l-7.72 7.72c-.78.78-.78 2.05 0 2.83L4 21.41c.39.39.9.59 1.41.59.51 0 1.02-.2 1.41-.59l7.78-7.78 2.81-2.81c.8-.78.8-2.07 0-2.86zM5.41 20L4 18.59l7.72-7.72 1.47 1.35L5.41 20z\"/>\n",
              "  </svg>\n",
              "      </button>\n",
              "      \n",
              "  <style>\n",
              "    .colab-df-container {\n",
              "      display:flex;\n",
              "      flex-wrap:wrap;\n",
              "      gap: 12px;\n",
              "    }\n",
              "\n",
              "    .colab-df-convert {\n",
              "      background-color: #E8F0FE;\n",
              "      border: none;\n",
              "      border-radius: 50%;\n",
              "      cursor: pointer;\n",
              "      display: none;\n",
              "      fill: #1967D2;\n",
              "      height: 32px;\n",
              "      padding: 0 0 0 0;\n",
              "      width: 32px;\n",
              "    }\n",
              "\n",
              "    .colab-df-convert:hover {\n",
              "      background-color: #E2EBFA;\n",
              "      box-shadow: 0px 1px 2px rgba(60, 64, 67, 0.3), 0px 1px 3px 1px rgba(60, 64, 67, 0.15);\n",
              "      fill: #174EA6;\n",
              "    }\n",
              "\n",
              "    [theme=dark] .colab-df-convert {\n",
              "      background-color: #3B4455;\n",
              "      fill: #D2E3FC;\n",
              "    }\n",
              "\n",
              "    [theme=dark] .colab-df-convert:hover {\n",
              "      background-color: #434B5C;\n",
              "      box-shadow: 0px 1px 3px 1px rgba(0, 0, 0, 0.15);\n",
              "      filter: drop-shadow(0px 1px 2px rgba(0, 0, 0, 0.3));\n",
              "      fill: #FFFFFF;\n",
              "    }\n",
              "  </style>\n",
              "\n",
              "      <script>\n",
              "        const buttonEl =\n",
              "          document.querySelector('#df-a649d335-66e2-40dc-811b-02d24023c352 button.colab-df-convert');\n",
              "        buttonEl.style.display =\n",
              "          google.colab.kernel.accessAllowed ? 'block' : 'none';\n",
              "\n",
              "        async function convertToInteractive(key) {\n",
              "          const element = document.querySelector('#df-a649d335-66e2-40dc-811b-02d24023c352');\n",
              "          const dataTable =\n",
              "            await google.colab.kernel.invokeFunction('convertToInteractive',\n",
              "                                                     [key], {});\n",
              "          if (!dataTable) return;\n",
              "\n",
              "          const docLinkHtml = 'Like what you see? Visit the ' +\n",
              "            '<a target=\"_blank\" href=https://colab.research.google.com/notebooks/data_table.ipynb>data table notebook</a>'\n",
              "            + ' to learn more about interactive tables.';\n",
              "          element.innerHTML = '';\n",
              "          dataTable['output_type'] = 'display_data';\n",
              "          await google.colab.output.renderOutput(dataTable, element);\n",
              "          const docLink = document.createElement('div');\n",
              "          docLink.innerHTML = docLinkHtml;\n",
              "          element.appendChild(docLink);\n",
              "        }\n",
              "      </script>\n",
              "    </div>\n",
              "  </div>\n",
              "  "
            ]
          },
          "metadata": {},
          "execution_count": 14
        }
      ]
    },
    {
      "cell_type": "code",
      "metadata": {
        "id": "NF6p7NV2a5mQ",
        "colab": {
          "base_uri": "https://localhost:8080/"
        },
        "outputId": "2db5878d-623e-46a3-f06d-817c33d494db"
      },
      "source": [
        "# dropping unneeded columns 'PassengerId' and 'Ticket'\n",
        "train.drop(columns = ['PassengerId', 'Ticket'], inplace = True)\n",
        "test.drop(columns = ['PassengerId', 'Ticket'], inplace = True)\n",
        "\n",
        "# dropping duplicates\n",
        "train.drop_duplicates(inplace = True)\n",
        "test.drop_duplicates(inplace = True)\n",
        "\n",
        "# preview the datasets' shapes\n",
        "print(\"Train shape:\", train.shape)\n",
        "print(\"Test shape:\", test.shape)"
      ],
      "execution_count": 15,
      "outputs": [
        {
          "output_type": "stream",
          "name": "stdout",
          "text": [
            "Train shape: (787, 11)\n",
            "Test shape: (383, 10)\n"
          ]
        }
      ]
    },
    {
      "cell_type": "code",
      "metadata": {
        "id": "l_vlsXPza5mT"
      },
      "source": [
        "# saving to clean CSV files\n",
        "train.to_csv('train_clean.csv', index = False)\n",
        "test.to_csv('test_clean.csv', index = False)\n",
        "\n"
      ],
      "execution_count": 16,
      "outputs": []
    },
    {
      "cell_type": "code",
      "source": [
        "print (train.head(1))"
      ],
      "metadata": {
        "colab": {
          "base_uri": "https://localhost:8080/"
        },
        "id": "JXRVuF5PVlCE",
        "outputId": "1cccfc8b-8fd5-4450-c926-394984174a74"
      },
      "execution_count": 19,
      "outputs": [
        {
          "output_type": "stream",
          "name": "stdout",
          "text": [
            "   Survived  Pclass   Sex   Age  SibSp  Parch  Fare Embarked Title  \\\n",
            "0         0       3  male  22.0      1      0  7.25        S    Mr   \n",
            "\n",
            "   FamilySize  FarePerPerson  \n",
            "0           2          3.625  \n"
          ]
        }
      ]
    },
    {
      "cell_type": "markdown",
      "metadata": {
        "id": "5V1OYm-Da5mW"
      },
      "source": [
        "## 3.2 Univariate Analysis "
      ]
    },
    {
      "cell_type": "markdown",
      "metadata": {
        "id": "ekSWEkmla5mW"
      },
      "source": [
        "### 3.2.1 Train dataset"
      ]
    },
    {
      "cell_type": "code",
      "metadata": {
        "id": "1wVoYHQda5mX",
        "colab": {
          "base_uri": "https://localhost:8080/",
          "height": 248
        },
        "outputId": "790e567f-a7d8-4d74-f9e0-71779fe23132"
      },
      "source": [
        "# distribution of those who survived vs those who didn't\n",
        "plt.figure(figsize = (4, 4))\n",
        "train.Survived.value_counts().plot(kind = 'pie', autopct = '%0.1f%%', labels = [\"No\", \"Yes\"])\n",
        "plt.show()"
      ],
      "execution_count": 20,
      "outputs": [
        {
          "output_type": "display_data",
          "data": {
            "text/plain": [
              "<Figure size 288x288 with 1 Axes>"
            ],
            "image/png": "[encoded data removed]"
          },
          "metadata": {}
        }
      ]
    },
    {
      "cell_type": "markdown",
      "metadata": {
        "id": "YuszldTva5mb"
      },
      "source": [
        "A little over half of the passengers did not survive the sinking of the ship."
      ]
    },
    {
      "cell_type": "code",
      "metadata": {
        "id": "yMQpz6eva5mb",
        "colab": {
          "base_uri": "https://localhost:8080/",
          "height": 265
        },
        "outputId": "56f346c9-8365-4553-f92e-04c66888413c"
      },
      "source": [
        "# distribution of gender\n",
        "plt.figure(figsize = (6, 4))\n",
        "train.Sex.value_counts().plot(kind = 'bar', rot = 0)\n",
        "plt.show()"
      ],
      "execution_count": 21,
      "outputs": [
        {
          "output_type": "display_data",
          "data": {
            "text/plain": [
              "<Figure size 432x288 with 1 Axes>"
            ],
            "image/png": "[encoded data removed]"
          },
          "metadata": {
            "needs_background": "light"
          }
        }
      ]
    },
    {
      "cell_type": "markdown",
      "metadata": {
        "id": "CSvX1oLwa5me"
      },
      "source": [
        "There are more male passengers than female passengers in this dataset."
      ]
    },
    {
      "cell_type": "code",
      "metadata": {
        "id": "99W9Vv3xa5me",
        "colab": {
          "base_uri": "https://localhost:8080/",
          "height": 248
        },
        "outputId": "83400d4b-1395-4c82-efb5-b48b2903074b"
      },
      "source": [
        "# distribution of class\n",
        "plt.figure(figsize = (4, 4))\n",
        "train.Pclass.value_counts().plot(kind = 'pie', autopct = '%0.1f%%')\n",
        "plt.show()"
      ],
      "execution_count": 22,
      "outputs": [
        {
          "output_type": "display_data",
          "data": {
            "text/plain": [
              "<Figure size 288x288 with 1 Axes>"
            ],
            "image/png": "[encoded data removed]"
          },
          "metadata": {}
        }
      ]
    },
    {
      "cell_type": "markdown",
      "metadata": {
        "id": "GyoiOJXoa5mh"
      },
      "source": [
        "Majority of the passengers are in 3rd class followed by those in 1st class."
      ]
    },
    {
      "cell_type": "code",
      "metadata": {
        "id": "N36t_bola5mh",
        "colab": {
          "base_uri": "https://localhost:8080/",
          "height": 265
        },
        "outputId": "5f8278bb-f42a-4e92-f792-e827f7c54b06"
      },
      "source": [
        "# distribution of age\n",
        "plt.figure(figsize = (8, 4))\n",
        "train.Age.hist()\n",
        "plt.show()"
      ],
      "execution_count": 23,
      "outputs": [
        {
          "output_type": "display_data",
          "data": {
            "text/plain": [
              "<Figure size 576x288 with 1 Axes>"
            ],
            "image/png": "[encoded data removed]"
          },
          "metadata": {
            "needs_background": "light"
          }
        }
      ]
    },
    {
      "cell_type": "markdown",
      "metadata": {
        "id": "vuXSsleqa5mu"
      },
      "source": [
        "Majority of the passengers are between 24-31 years. Minority are 55 and above."
      ]
    },
    {
      "cell_type": "code",
      "metadata": {
        "id": "NyaD95wZa5mx",
        "colab": {
          "base_uri": "https://localhost:8080/",
          "height": 265
        },
        "outputId": "2dcbe04b-3cba-49a5-a04e-0ea45b63f566"
      },
      "source": [
        "# distribution of family size\n",
        "plt.figure(figsize = (8, 4))\n",
        "train.FamilySize.value_counts().plot(kind = 'bar', rot = 0)\n",
        "plt.show()"
      ],
      "execution_count": 24,
      "outputs": [
        {
          "output_type": "display_data",
          "data": {
            "text/plain": [
              "<Figure size 576x288 with 1 Axes>"
            ],
            "image/png": "[encoded data removed]"
          },
          "metadata": {
            "needs_background": "light"
          }
        }
      ]
    },
    {
      "cell_type": "markdown",
      "metadata": {
        "id": "kCoO2FHEa5m1"
      },
      "source": [
        "Majority of the passengers were travelling alone. The second and third biggest portion of the passengers had 1 and 2 other family members with them respectively."
      ]
    },
    {
      "cell_type": "code",
      "metadata": {
        "id": "k6ohRm-2a5m3",
        "colab": {
          "base_uri": "https://localhost:8080/",
          "height": 265
        },
        "outputId": "37a946dc-87e5-4506-c02f-2bb397903553"
      },
      "source": [
        "# distribution by title\n",
        "plt.figure(figsize = (10, 4))\n",
        "train.Title.value_counts().plot(kind = 'bar', rot = 0)\n",
        "plt.show()"
      ],
      "execution_count": 25,
      "outputs": [
        {
          "output_type": "display_data",
          "data": {
            "text/plain": [
              "<Figure size 720x288 with 1 Axes>"
            ],
            "image/png": "[encoded data removed]"
          },
          "metadata": {
            "needs_background": "light"
          }
        }
      ]
    },
    {
      "cell_type": "markdown",
      "metadata": {
        "id": "R1R4JvlNa5m9"
      },
      "source": [
        "Common titles such as 'Mr.', 'Mrs.', and 'Miss' made up the vast majority of the titles used."
      ]
    },
    {
      "cell_type": "code",
      "metadata": {
        "id": "8kKV5zBHa5m-",
        "colab": {
          "base_uri": "https://localhost:8080/",
          "height": 269
        },
        "outputId": "99c2efe5-6847-48ff-afe8-91c9afddff54"
      },
      "source": [
        "# distribution of 'Embarked'\n",
        "plt.figure(figsize = (8, 4))\n",
        "train.Embarked.value_counts().plot(kind = 'bar', rot = 0)\n",
        "plt.show()"
      ],
      "execution_count": 26,
      "outputs": [
        {
          "output_type": "display_data",
          "data": {
            "text/plain": [
              "<Figure size 576x288 with 1 Axes>"
            ],
            "image/png": "[encoded data removed]"
          },
          "metadata": {
            "needs_background": "light"
          }
        }
      ]
    },
    {
      "cell_type": "markdown",
      "metadata": {
        "id": "iSrpkSg_a5nF"
      },
      "source": [
        "Majority of the passengers embarked at point S."
      ]
    },
    {
      "cell_type": "markdown",
      "metadata": {
        "id": "C-SkoWz5a5nQ"
      },
      "source": [
        "### 3.2.2 Test dataset"
      ]
    },
    {
      "cell_type": "code",
      "metadata": {
        "id": "hHeavRvEa5nT",
        "colab": {
          "base_uri": "https://localhost:8080/",
          "height": 265
        },
        "outputId": "26024255-ef51-4d94-e08d-a297b0048059"
      },
      "source": [
        "# distribution of gender\n",
        "plt.figure(figsize = (6, 4))\n",
        "test.Sex.value_counts().plot(kind = 'bar', rot = 0)\n",
        "plt.show()"
      ],
      "execution_count": 27,
      "outputs": [
        {
          "output_type": "display_data",
          "data": {
            "text/plain": [
              "<Figure size 432x288 with 1 Axes>"
            ],
            "image/png": "[encoded data removed]"
          },
          "metadata": {
            "needs_background": "light"
          }
        }
      ]
    },
    {
      "cell_type": "markdown",
      "metadata": {
        "id": "vghHY75sa5nW"
      },
      "source": [
        "There are more male passengers than female passengers in this dataset."
      ]
    },
    {
      "cell_type": "code",
      "metadata": {
        "id": "eucxkzPka5nX",
        "colab": {
          "base_uri": "https://localhost:8080/",
          "height": 248
        },
        "outputId": "885544d6-c58c-45c2-f827-319ba8d8849b"
      },
      "source": [
        "# distribution of class\n",
        "plt.figure(figsize = (4, 4))\n",
        "test.Pclass.value_counts().plot(kind = 'pie', autopct = '%0.1f%%')\n",
        "plt.show()"
      ],
      "execution_count": 28,
      "outputs": [
        {
          "output_type": "display_data",
          "data": {
            "text/plain": [
              "<Figure size 288x288 with 1 Axes>"
            ],
            "image/png": "[encoded data removed]"
          },
          "metadata": {}
        }
      ]
    },
    {
      "cell_type": "markdown",
      "metadata": {
        "id": "XRc0HWjPa5nb"
      },
      "source": [
        "Majority of the passengers are in 3rd class followed by those in 1st class."
      ]
    },
    {
      "cell_type": "code",
      "metadata": {
        "id": "CScLPe-na5nk",
        "colab": {
          "base_uri": "https://localhost:8080/",
          "height": 374
        },
        "outputId": "639a6ca2-791d-42c4-9067-c48de4f5c101"
      },
      "source": [
        "# distribution of family size\n",
        "plt.figure(figsize = (8, 6))\n",
        "test.FamilySize.value_counts().plot(kind = 'bar', rot = 0)\n",
        "plt.show()"
      ],
      "execution_count": 29,
      "outputs": [
        {
          "output_type": "display_data",
          "data": {
            "text/plain": [
              "<Figure size 576x432 with 1 Axes>"
            ],
            "image/png": "[encoded data removed]"
          },
          "metadata": {
            "needs_background": "light"
          }
        }
      ]
    },
    {
      "cell_type": "markdown",
      "metadata": {
        "id": "jCM646wsa5nv"
      },
      "source": [
        "Majority of the passengers were travelling alone. The second and third biggest portion of the passengers had 1 and 2 other family members with them respectively."
      ]
    },
    {
      "cell_type": "code",
      "metadata": {
        "id": "lJIxngMAa5nw",
        "colab": {
          "base_uri": "https://localhost:8080/",
          "height": 265
        },
        "outputId": "7ba117b5-695e-4119-c8a7-9a0008bf1e93"
      },
      "source": [
        "# distribution by title\n",
        "plt.figure(figsize = (10, 4))\n",
        "train.Title.value_counts().plot(kind = 'bar', rot = 0)\n",
        "plt.show()"
      ],
      "execution_count": 30,
      "outputs": [
        {
          "output_type": "display_data",
          "data": {
            "text/plain": [
              "<Figure size 720x288 with 1 Axes>"
            ],
            "image/png": "[encoded data removed]"
          },
          "metadata": {
            "needs_background": "light"
          }
        }
      ]
    },
    {
      "cell_type": "markdown",
      "metadata": {
        "id": "1Vwo51q7a5n2"
      },
      "source": [
        "Common titles such as 'Mr.', 'Mrs.', and 'Miss' made up the vast majority of the titles used."
      ]
    },
    {
      "cell_type": "code",
      "metadata": {
        "id": "4EWvzyBba5n3",
        "colab": {
          "base_uri": "https://localhost:8080/",
          "height": 265
        },
        "outputId": "bbd555eb-2a47-495e-f05b-58cae1ad3ebf"
      },
      "source": [
        "# distribution of 'Embarked'\n",
        "plt.figure(figsize = (8, 4))\n",
        "test.Embarked.value_counts().plot(kind = 'bar', rot = 0)\n",
        "plt.show()"
      ],
      "execution_count": 31,
      "outputs": [
        {
          "output_type": "display_data",
          "data": {
            "text/plain": [
              "<Figure size 576x288 with 1 Axes>"
            ],
            "image/png": "[encoded data removed]"
          },
          "metadata": {
            "needs_background": "light"
          }
        }
      ]
    },
    {
      "cell_type": "markdown",
      "metadata": {
        "id": "Dh_HmTcta5oA"
      },
      "source": [
        "Majority of the passengers embarked at point S."
      ]
    },
    {
      "cell_type": "markdown",
      "metadata": {
        "id": "qKVQyZswa5oI"
      },
      "source": [
        "## 3.3 Bivariate Analysis"
      ]
    },
    {
      "cell_type": "markdown",
      "metadata": {
        "id": "lng82JYua5oJ"
      },
      "source": [
        "We will look at how the other variables relate to the target variable ('Survived') in the Train dataset."
      ]
    },
    {
      "cell_type": "code",
      "metadata": {
        "id": "T-m30dHra5oL",
        "colab": {
          "base_uri": "https://localhost:8080/",
          "height": 334
        },
        "outputId": "71b52b26-08ce-4d1d-d952-0324defaf87d"
      },
      "source": [
        "# distribution of Survived by class\n",
        "plt.figure(figsize = (8, 4))\n",
        "sns.countplot(train['Pclass'], hue = train['Survived'])\n",
        "plt.show()"
      ],
      "execution_count": 32,
      "outputs": [
        {
          "output_type": "stream",
          "name": "stderr",
          "text": [
            "/usr/local/lib/python3.7/dist-packages/seaborn/_decorators.py:43: FutureWarning: Pass the following variable as a keyword arg: x. From version 0.12, the only valid positional argument will be `data`, and passing other arguments without an explicit keyword will result in an error or misinterpretation.\n",
            "  FutureWarning\n"
          ]
        },
        {
          "output_type": "display_data",
          "data": {
            "text/plain": [
              "<Figure size 576x288 with 1 Axes>"
            ],
            "image/png": "[encoded data removed]"
          },
          "metadata": {
            "needs_background": "light"
          }
        }
      ]
    },
    {
      "cell_type": "markdown",
      "metadata": {
        "id": "5qB7321Za5oQ"
      },
      "source": [
        "Majority of those who survived were in 1st class. Majority of those who died were in 3rd class."
      ]
    },
    {
      "cell_type": "markdown",
      "metadata": {
        "id": "wazWkS7na5ob"
      },
      "source": [
        "Majority of those who survived were female while majority of those who died were male."
      ]
    },
    {
      "cell_type": "markdown",
      "metadata": {
        "id": "GWWCyLaVa5oh"
      },
      "source": [
        "Majority of those who survived were the women, including those with superior titles like Mme, Mlle, and Countess. Majority of those who died were men, including those with superior titles like Col, Capt, and Jonkheer."
      ]
    },
    {
      "cell_type": "markdown",
      "metadata": {
        "id": "mb2PlbuDa5os"
      },
      "source": [
        "Those who embarked at point S survived and died more than their counterparts who embarked at points C and Q."
      ]
    },
    {
      "cell_type": "markdown",
      "metadata": {
        "id": "45n0u2Ama5o0"
      },
      "source": [
        "## 3.4 Feature Encoding"
      ]
    },
    {
      "cell_type": "code",
      "metadata": {
        "id": "9Bo0Y9Qpa5o2"
      },
      "source": [
        "from sklearn.preprocessing import LabelEncoder\n",
        "\n",
        "# encoding Sex\n",
        "le_sex = LabelEncoder().fit(train['Sex'].unique())\n",
        "sex_classes = le_sex.classes_\n",
        "train['Sex'] = le_sex.transform(train['Sex'].values)\n",
        "test['Sex'] = le_sex.transform(test['Sex'].values)\n",
        "\n",
        "\n"
      ],
      "execution_count": 33,
      "outputs": []
    },
    {
      "cell_type": "code",
      "source": [
        "# encoding Embarked\n",
        "\n",
        "le_Embarked = LabelEncoder().fit(train['Embarked'].unique())\n",
        "Embarked_classes = le_Embarked.classes_\n",
        "train['Embarked'] = le_Embarked.transform(train['Embarked'].values)\n",
        "test['Embarked'] = le_Embarked.transform(test['Embarked'].values)\n"
      ],
      "metadata": {
        "id": "NE_6C9oNMhgS"
      },
      "execution_count": 34,
      "outputs": []
    },
    {
      "cell_type": "code",
      "source": [
        "\n",
        "# encoding Title\n",
        "\n",
        "le_Title = LabelEncoder().fit(train['Title'].unique())\n",
        "Title_classes = le_Title.classes_\n",
        "train['Title'] = le_Title.fit_transform(train['Title'].values)\n",
        "test['Title'] = le_Title.fit_transform(test['Title'].values)\n"
      ],
      "metadata": {
        "id": "wkRyrtySMnZs"
      },
      "execution_count": 35,
      "outputs": []
    },
    {
      "cell_type": "code",
      "source": [
        "# previewing our modified datatypes\n",
        "print(\"Train:\")\n",
        "print(train.dtypes)\n",
        "print()\n",
        "print(\"Test:\")\n",
        "print(test.dtypes)"
      ],
      "metadata": {
        "colab": {
          "base_uri": "https://localhost:8080/"
        },
        "id": "DNKN0RWxNePV",
        "outputId": "f03c8ffe-75cc-4cd0-a3ae-a6acc5e1c813"
      },
      "execution_count": 36,
      "outputs": [
        {
          "output_type": "stream",
          "name": "stdout",
          "text": [
            "Train:\n",
            "Survived           int64\n",
            "Pclass             int64\n",
            "Sex                int64\n",
            "Age              float64\n",
            "SibSp              int64\n",
            "Parch              int64\n",
            "Fare             float64\n",
            "Embarked           int64\n",
            "Title              int64\n",
            "FamilySize         int64\n",
            "FarePerPerson    float64\n",
            "dtype: object\n",
            "\n",
            "Test:\n",
            "Pclass             int64\n",
            "Sex                int64\n",
            "Age              float64\n",
            "SibSp              int64\n",
            "Parch              int64\n",
            "Fare             float64\n",
            "Embarked           int64\n",
            "Title              int64\n",
            "FamilySize         int64\n",
            "FarePerPerson    float64\n",
            "dtype: object\n"
          ]
        }
      ]
    },
    {
      "cell_type": "code",
      "source": [
        "#combine\n",
        "full_df = pd.concat(\n",
        "    [\n",
        "        train.drop([\"Survived\"], axis=1)\n",
        "    ]\n",
        ")\n",
        "y_train = train[\"Survived\"].values"
      ],
      "metadata": {
        "id": "znfrdBRufghM"
      },
      "execution_count": 44,
      "outputs": []
    },
    {
      "cell_type": "code",
      "source": [
        "#check\n",
        "print (full_df.head())"
      ],
      "metadata": {
        "colab": {
          "base_uri": "https://localhost:8080/"
        },
        "id": "lXWsIGJHZf5s",
        "outputId": "9a02e9e1-c939-4339-ff31-90df451b3c5d"
      },
      "execution_count": 45,
      "outputs": [
        {
          "output_type": "stream",
          "name": "stdout",
          "text": [
            "   Pclass  Sex   Age  SibSp  Parch     Fare  Embarked  Title  FamilySize  \\\n",
            "0       3    1  22.0      1      0   7.2500         2     12           2   \n",
            "1       1    0  38.0      1      0  71.2833         0     13           2   \n",
            "2       3    0  26.0      0      0   7.9250         2      9           1   \n",
            "3       1    0  35.0      1      0  53.1000         2     13           2   \n",
            "4       3    1  35.0      0      0   8.0500         2     12           1   \n",
            "\n",
            "   FarePerPerson  \n",
            "0        3.62500  \n",
            "1       35.64165  \n",
            "2        7.92500  \n",
            "3       26.55000  \n",
            "4        8.05000  \n"
          ]
        }
      ]
    },
    {
      "cell_type": "code",
      "source": [
        "#check null\n",
        "full_df.isna().sum()"
      ],
      "metadata": {
        "colab": {
          "base_uri": "https://localhost:8080/"
        },
        "id": "XKD7HW_Uc7qd",
        "outputId": "4c52c571-7d25-42ac-e9a9-3ac9e0c793b6"
      },
      "execution_count": 47,
      "outputs": [
        {
          "output_type": "execute_result",
          "data": {
            "text/plain": [
              "Pclass           0\n",
              "Sex              0\n",
              "Age              0\n",
              "SibSp            0\n",
              "Parch            0\n",
              "Fare             0\n",
              "Embarked         0\n",
              "Title            0\n",
              "FamilySize       0\n",
              "FarePerPerson    0\n",
              "dtype: int64"
            ]
          },
          "metadata": {},
          "execution_count": 47
        }
      ]
    },
    {
      "cell_type": "code",
      "source": [
        "# some quick inspections\n",
        "print(train.shape, test.shape, train.columns.values)"
      ],
      "metadata": {
        "colab": {
          "base_uri": "https://localhost:8080/"
        },
        "id": "IRZAqjX8b5WF",
        "outputId": "cd767800-ff2d-4a8b-c51f-a83c77bb668f"
      },
      "execution_count": 48,
      "outputs": [
        {
          "output_type": "stream",
          "name": "stdout",
          "text": [
            "(787, 11) (383, 10) ['Survived' 'Pclass' 'Sex' 'Age' 'SibSp' 'Parch' 'Fare' 'Embarked' 'Title'\n",
            " 'FamilySize' 'FarePerPerson']\n"
          ]
        }
      ]
    },
    {
      "cell_type": "markdown",
      "metadata": {
        "id": "GOsufTbaa5o7"
      },
      "source": [
        "# <font color='#2F4F4F'>4. Data Modeling</font>"
      ]
    },
    {
      "cell_type": "code",
      "metadata": {
        "id": "f8Ta-bZFa5o8",
        "colab": {
          "base_uri": "https://localhost:8080/"
        },
        "outputId": "b238df85-8704-48e6-b7e3-142cdffba4c1"
      },
      "source": [
        "# splitting Train data into features (X) and label (Y)\n",
        "# ---\n",
        "#\n",
        "#Let's split the data back into training and test data\n",
        "\n",
        "X_train = full_df[:y_train.shape[0]]\n",
        "X_test = full_df[y_train.shape[0]:]\n",
        "\n",
        "print(f\"Train X shape: {X_train.shape}\")\n",
        "print(f\"Train y shape: {y_train.shape}\")\n",
        "print(f\"Test X shape: {X_test.shape}\")"
      ],
      "execution_count": 56,
      "outputs": [
        {
          "output_type": "stream",
          "name": "stdout",
          "text": [
            "Train X shape: (787, 10)\n",
            "Train y shape: (787,)\n",
            "Test X shape: (0, 10)\n"
          ]
        }
      ]
    },
    {
      "cell_type": "code",
      "metadata": {
        "id": "8hGlybYBa5pJ"
      },
      "source": [
        "# Performing feature scaling\n",
        "# ---\n",
        "#\n",
        "one_hot_cols = [\"Embarked\", \"Title\"]\n",
        "for col in one_hot_cols:\n",
        "    full_df = pd.concat(\n",
        "        [full_df, pd.get_dummies(full_df[col], prefix=col)], \n",
        "        axis=1, \n",
        "        join=\"inner\",\n",
        "    )\n",
        "full_df = full_df.drop(one_hot_cols, axis=1)\n"
      ],
      "execution_count": 57,
      "outputs": []
    },
    {
      "cell_type": "code",
      "source": [
        "# Creating our data structure\n",
        "from sklearn.preprocessing import StandardScaler\n",
        "scaler = StandardScaler()\n",
        "full_df.loc[:] = scaler.fit_transform(full_df)"
      ],
      "metadata": {
        "id": "dHz1gm49h5zN"
      },
      "execution_count": 59,
      "outputs": []
    },
    {
      "cell_type": "code",
      "source": [
        "full_df"
      ],
      "metadata": {
        "colab": {
          "base_uri": "https://localhost:8080/",
          "height": 488
        },
        "id": "ttVVKnfxnTXm",
        "outputId": "c9631afb-d017-43c7-cb36-f0ae59cb9988"
      },
      "execution_count": 61,
      "outputs": [
        {
          "output_type": "execute_result",
          "data": {
            "text/plain": [
              "       Pclass       Sex       Age     SibSp     Parch      Fare  FamilySize  \\\n",
              "0    0.883694  0.778539 -0.571132  0.458674 -0.497958 -0.528751    0.032833   \n",
              "1   -1.461895 -1.284458  0.601639  0.458674 -0.497958  0.701308    0.032833   \n",
              "2    0.883694 -1.284458 -0.277939 -0.522240 -0.497958 -0.515784   -0.613149   \n",
              "3   -1.461895 -1.284458  0.381744  0.458674 -0.497958  0.352013    0.032833   \n",
              "4    0.883694  0.778539  0.381744 -0.522240 -0.497958 -0.513383   -0.613149   \n",
              "..        ...       ...       ...       ...       ...       ...         ...   \n",
              "886 -0.289100  0.778539 -0.204641 -0.522240 -0.497958 -0.418295   -0.613149   \n",
              "887 -1.461895 -1.284458 -0.791027 -0.522240 -0.497958 -0.091731   -0.613149   \n",
              "888  0.883694 -1.284458 -0.006801  0.458674  1.891635 -0.217554    1.324796   \n",
              "889 -1.461895  0.778539 -0.277939 -0.522240 -0.497958 -0.091731   -0.613149   \n",
              "890  0.883694  0.778539  0.161850 -0.522240 -0.497958 -0.519146   -0.613149   \n",
              "\n",
              "     FarePerPerson  Embarked_0  Embarked_1  Embarked_2   Title_0   Title_1  \\\n",
              "0        -0.468855   -0.497219   -0.284682    0.613086 -0.035669 -0.050475   \n",
              "1         0.378493    2.011187   -0.284682   -1.631093 -0.035669 -0.050475   \n",
              "2        -0.355052   -0.497219   -0.284682    0.613086 -0.035669 -0.050475   \n",
              "3         0.137875   -0.497219   -0.284682    0.613086 -0.035669 -0.050475   \n",
              "4        -0.351744   -0.497219   -0.284682    0.613086 -0.035669 -0.050475   \n",
              "..             ...         ...         ...         ...       ...       ...   \n",
              "886      -0.220737   -0.497219   -0.284682    0.613086 -0.035669 -0.050475   \n",
              "887       0.229182   -0.497219   -0.284682    0.613086 -0.035669 -0.050475   \n",
              "888      -0.409638   -0.497219   -0.284682    0.613086 -0.035669 -0.050475   \n",
              "889       0.229182    2.011187   -0.284682   -1.631093 -0.035669 -0.050475   \n",
              "890      -0.359683   -0.497219    3.512689   -1.631093 -0.035669 -0.050475   \n",
              "\n",
              "      Title_2   Title_3   Title_4   Title_5   Title_6   Title_7  Title_8  \\\n",
              "0   -0.035669 -0.035669 -0.094733 -0.035669 -0.035669 -0.050475 -0.22834   \n",
              "1   -0.035669 -0.035669 -0.094733 -0.035669 -0.035669 -0.050475 -0.22834   \n",
              "2   -0.035669 -0.035669 -0.094733 -0.035669 -0.035669 -0.050475 -0.22834   \n",
              "3   -0.035669 -0.035669 -0.094733 -0.035669 -0.035669 -0.050475 -0.22834   \n",
              "4   -0.035669 -0.035669 -0.094733 -0.035669 -0.035669 -0.050475 -0.22834   \n",
              "..        ...       ...       ...       ...       ...       ...      ...   \n",
              "886 -0.035669 -0.035669 -0.094733 -0.035669 -0.035669 -0.050475 -0.22834   \n",
              "887 -0.035669 -0.035669 -0.094733 -0.035669 -0.035669 -0.050475 -0.22834   \n",
              "888 -0.035669 -0.035669 -0.094733 -0.035669 -0.035669 -0.050475 -0.22834   \n",
              "889 -0.035669 -0.035669 -0.094733 -0.035669 -0.035669 -0.050475 -0.22834   \n",
              "890 -0.035669 -0.035669 -0.094733 -0.035669 -0.035669 -0.050475 -0.22834   \n",
              "\n",
              "      Title_9  Title_10  Title_11  Title_12  Title_13  Title_14   Title_15  \\\n",
              "0   -0.518994 -0.050475 -0.035669  0.908838 -0.430396 -0.035669  -0.087650   \n",
              "1   -0.518994 -0.050475 -0.035669 -1.100306  2.323440 -0.035669  -0.087650   \n",
              "2    1.926804 -0.050475 -0.035669 -1.100306 -0.430396 -0.035669  -0.087650   \n",
              "3   -0.518994 -0.050475 -0.035669 -1.100306  2.323440 -0.035669  -0.087650   \n",
              "4   -0.518994 -0.050475 -0.035669  0.908838 -0.430396 -0.035669  -0.087650   \n",
              "..        ...       ...       ...       ...       ...       ...        ...   \n",
              "886 -0.518994 -0.050475 -0.035669 -1.100306 -0.430396 -0.035669  11.409061   \n",
              "887  1.926804 -0.050475 -0.035669 -1.100306 -0.430396 -0.035669  -0.087650   \n",
              "888  1.926804 -0.050475 -0.035669 -1.100306 -0.430396 -0.035669  -0.087650   \n",
              "889 -0.518994 -0.050475 -0.035669  0.908838 -0.430396 -0.035669  -0.087650   \n",
              "890 -0.518994 -0.050475 -0.035669  0.908838 -0.430396 -0.035669  -0.087650   \n",
              "\n",
              "     Title_16  \n",
              "0   -0.035669  \n",
              "1   -0.035669  \n",
              "2   -0.035669  \n",
              "3   -0.035669  \n",
              "4   -0.035669  \n",
              "..        ...  \n",
              "886 -0.035669  \n",
              "887 -0.035669  \n",
              "888 -0.035669  \n",
              "889 -0.035669  \n",
              "890 -0.035669  \n",
              "\n",
              "[787 rows x 28 columns]"
            ],
            "text/html": [
              "\n",
              "  <div id=\"df-987ce0ed-8a93-4aa7-94b3-21fa8e35ec71\">\n",
              "    <div class=\"colab-df-container\">\n",
              "      <div>\n",
              "<style scoped>\n",
              "    .dataframe tbody tr th:only-of-type {\n",
              "        vertical-align: middle;\n",
              "    }\n",
              "\n",
              "    .dataframe tbody tr th {\n",
              "        vertical-align: top;\n",
              "    }\n",
              "\n",
              "    .dataframe thead th {\n",
              "        text-align: right;\n",
              "    }\n",
              "</style>\n",
              "<table border=\"1\" class=\"dataframe\">\n",
              "  <thead>\n",
              "    <tr style=\"text-align: right;\">\n",
              "      <th></th>\n",
              "      <th>Pclass</th>\n",
              "      <th>Sex</th>\n",
              "      <th>Age</th>\n",
              "      <th>SibSp</th>\n",
              "      <th>Parch</th>\n",
              "      <th>Fare</th>\n",
              "      <th>FamilySize</th>\n",
              "      <th>FarePerPerson</th>\n",
              "      <th>Embarked_0</th>\n",
              "      <th>Embarked_1</th>\n",
              "      <th>Embarked_2</th>\n",
              "      <th>Title_0</th>\n",
              "      <th>Title_1</th>\n",
              "      <th>Title_2</th>\n",
              "      <th>Title_3</th>\n",
              "      <th>Title_4</th>\n",
              "      <th>Title_5</th>\n",
              "      <th>Title_6</th>\n",
              "      <th>Title_7</th>\n",
              "      <th>Title_8</th>\n",
              "      <th>Title_9</th>\n",
              "      <th>Title_10</th>\n",
              "      <th>Title_11</th>\n",
              "      <th>Title_12</th>\n",
              "      <th>Title_13</th>\n",
              "      <th>Title_14</th>\n",
              "      <th>Title_15</th>\n",
              "      <th>Title_16</th>\n",
              "    </tr>\n",
              "  </thead>\n",
              "  <tbody>\n",
              "    <tr>\n",
              "      <th>0</th>\n",
              "      <td>0.883694</td>\n",
              "      <td>0.778539</td>\n",
              "      <td>-0.571132</td>\n",
              "      <td>0.458674</td>\n",
              "      <td>-0.497958</td>\n",
              "      <td>-0.528751</td>\n",
              "      <td>0.032833</td>\n",
              "      <td>-0.468855</td>\n",
              "      <td>-0.497219</td>\n",
              "      <td>-0.284682</td>\n",
              "      <td>0.613086</td>\n",
              "      <td>-0.035669</td>\n",
              "      <td>-0.050475</td>\n",
              "      <td>-0.035669</td>\n",
              "      <td>-0.035669</td>\n",
              "      <td>-0.094733</td>\n",
              "      <td>-0.035669</td>\n",
              "      <td>-0.035669</td>\n",
              "      <td>-0.050475</td>\n",
              "      <td>-0.22834</td>\n",
              "      <td>-0.518994</td>\n",
              "      <td>-0.050475</td>\n",
              "      <td>-0.035669</td>\n",
              "      <td>0.908838</td>\n",
              "      <td>-0.430396</td>\n",
              "      <td>-0.035669</td>\n",
              "      <td>-0.087650</td>\n",
              "      <td>-0.035669</td>\n",
              "    </tr>\n",
              "    <tr>\n",
              "      <th>1</th>\n",
              "      <td>-1.461895</td>\n",
              "      <td>-1.284458</td>\n",
              "      <td>0.601639</td>\n",
              "      <td>0.458674</td>\n",
              "      <td>-0.497958</td>\n",
              "      <td>0.701308</td>\n",
              "      <td>0.032833</td>\n",
              "      <td>0.378493</td>\n",
              "      <td>2.011187</td>\n",
              "      <td>-0.284682</td>\n",
              "      <td>-1.631093</td>\n",
              "      <td>-0.035669</td>\n",
              "      <td>-0.050475</td>\n",
              "      <td>-0.035669</td>\n",
              "      <td>-0.035669</td>\n",
              "      <td>-0.094733</td>\n",
              "      <td>-0.035669</td>\n",
              "      <td>-0.035669</td>\n",
              "      <td>-0.050475</td>\n",
              "      <td>-0.22834</td>\n",
              "      <td>-0.518994</td>\n",
              "      <td>-0.050475</td>\n",
              "      <td>-0.035669</td>\n",
              "      <td>-1.100306</td>\n",
              "      <td>2.323440</td>\n",
              "      <td>-0.035669</td>\n",
              "      <td>-0.087650</td>\n",
              "      <td>-0.035669</td>\n",
              "    </tr>\n",
              "    <tr>\n",
              "      <th>2</th>\n",
              "      <td>0.883694</td>\n",
              "      <td>-1.284458</td>\n",
              "      <td>-0.277939</td>\n",
              "      <td>-0.522240</td>\n",
              "      <td>-0.497958</td>\n",
              "      <td>-0.515784</td>\n",
              "      <td>-0.613149</td>\n",
              "      <td>-0.355052</td>\n",
              "      <td>-0.497219</td>\n",
              "      <td>-0.284682</td>\n",
              "      <td>0.613086</td>\n",
              "      <td>-0.035669</td>\n",
              "      <td>-0.050475</td>\n",
              "      <td>-0.035669</td>\n",
              "      <td>-0.035669</td>\n",
              "      <td>-0.094733</td>\n",
              "      <td>-0.035669</td>\n",
              "      <td>-0.035669</td>\n",
              "      <td>-0.050475</td>\n",
              "      <td>-0.22834</td>\n",
              "      <td>1.926804</td>\n",
              "      <td>-0.050475</td>\n",
              "      <td>-0.035669</td>\n",
              "      <td>-1.100306</td>\n",
              "      <td>-0.430396</td>\n",
              "      <td>-0.035669</td>\n",
              "      <td>-0.087650</td>\n",
              "      <td>-0.035669</td>\n",
              "    </tr>\n",
              "    <tr>\n",
              "      <th>3</th>\n",
              "      <td>-1.461895</td>\n",
              "      <td>-1.284458</td>\n",
              "      <td>0.381744</td>\n",
              "      <td>0.458674</td>\n",
              "      <td>-0.497958</td>\n",
              "      <td>0.352013</td>\n",
              "      <td>0.032833</td>\n",
              "      <td>0.137875</td>\n",
              "      <td>-0.497219</td>\n",
              "      <td>-0.284682</td>\n",
              "      <td>0.613086</td>\n",
              "      <td>-0.035669</td>\n",
              "      <td>-0.050475</td>\n",
              "      <td>-0.035669</td>\n",
              "      <td>-0.035669</td>\n",
              "      <td>-0.094733</td>\n",
              "      <td>-0.035669</td>\n",
              "      <td>-0.035669</td>\n",
              "      <td>-0.050475</td>\n",
              "      <td>-0.22834</td>\n",
              "      <td>-0.518994</td>\n",
              "      <td>-0.050475</td>\n",
              "      <td>-0.035669</td>\n",
              "      <td>-1.100306</td>\n",
              "      <td>2.323440</td>\n",
              "      <td>-0.035669</td>\n",
              "      <td>-0.087650</td>\n",
              "      <td>-0.035669</td>\n",
              "    </tr>\n",
              "    <tr>\n",
              "      <th>4</th>\n",
              "      <td>0.883694</td>\n",
              "      <td>0.778539</td>\n",
              "      <td>0.381744</td>\n",
              "      <td>-0.522240</td>\n",
              "      <td>-0.497958</td>\n",
              "      <td>-0.513383</td>\n",
              "      <td>-0.613149</td>\n",
              "      <td>-0.351744</td>\n",
              "      <td>-0.497219</td>\n",
              "      <td>-0.284682</td>\n",
              "      <td>0.613086</td>\n",
              "      <td>-0.035669</td>\n",
              "      <td>-0.050475</td>\n",
              "      <td>-0.035669</td>\n",
              "      <td>-0.035669</td>\n",
              "      <td>-0.094733</td>\n",
              "      <td>-0.035669</td>\n",
              "      <td>-0.035669</td>\n",
              "      <td>-0.050475</td>\n",
              "      <td>-0.22834</td>\n",
              "      <td>-0.518994</td>\n",
              "      <td>-0.050475</td>\n",
              "      <td>-0.035669</td>\n",
              "      <td>0.908838</td>\n",
              "      <td>-0.430396</td>\n",
              "      <td>-0.035669</td>\n",
              "      <td>-0.087650</td>\n",
              "      <td>-0.035669</td>\n",
              "    </tr>\n",
              "    <tr>\n",
              "      <th>...</th>\n",
              "      <td>...</td>\n",
              "      <td>...</td>\n",
              "      <td>...</td>\n",
              "      <td>...</td>\n",
              "      <td>...</td>\n",
              "      <td>...</td>\n",
              "      <td>...</td>\n",
              "      <td>...</td>\n",
              "      <td>...</td>\n",
              "      <td>...</td>\n",
              "      <td>...</td>\n",
              "      <td>...</td>\n",
              "      <td>...</td>\n",
              "      <td>...</td>\n",
              "      <td>...</td>\n",
              "      <td>...</td>\n",
              "      <td>...</td>\n",
              "      <td>...</td>\n",
              "      <td>...</td>\n",
              "      <td>...</td>\n",
              "      <td>...</td>\n",
              "      <td>...</td>\n",
              "      <td>...</td>\n",
              "      <td>...</td>\n",
              "      <td>...</td>\n",
              "      <td>...</td>\n",
              "      <td>...</td>\n",
              "      <td>...</td>\n",
              "    </tr>\n",
              "    <tr>\n",
              "      <th>886</th>\n",
              "      <td>-0.289100</td>\n",
              "      <td>0.778539</td>\n",
              "      <td>-0.204641</td>\n",
              "      <td>-0.522240</td>\n",
              "      <td>-0.497958</td>\n",
              "      <td>-0.418295</td>\n",
              "      <td>-0.613149</td>\n",
              "      <td>-0.220737</td>\n",
              "      <td>-0.497219</td>\n",
              "      <td>-0.284682</td>\n",
              "      <td>0.613086</td>\n",
              "      <td>-0.035669</td>\n",
              "      <td>-0.050475</td>\n",
              "      <td>-0.035669</td>\n",
              "      <td>-0.035669</td>\n",
              "      <td>-0.094733</td>\n",
              "      <td>-0.035669</td>\n",
              "      <td>-0.035669</td>\n",
              "      <td>-0.050475</td>\n",
              "      <td>-0.22834</td>\n",
              "      <td>-0.518994</td>\n",
              "      <td>-0.050475</td>\n",
              "      <td>-0.035669</td>\n",
              "      <td>-1.100306</td>\n",
              "      <td>-0.430396</td>\n",
              "      <td>-0.035669</td>\n",
              "      <td>11.409061</td>\n",
              "      <td>-0.035669</td>\n",
              "    </tr>\n",
              "    <tr>\n",
              "      <th>887</th>\n",
              "      <td>-1.461895</td>\n",
              "      <td>-1.284458</td>\n",
              "      <td>-0.791027</td>\n",
              "      <td>-0.522240</td>\n",
              "      <td>-0.497958</td>\n",
              "      <td>-0.091731</td>\n",
              "      <td>-0.613149</td>\n",
              "      <td>0.229182</td>\n",
              "      <td>-0.497219</td>\n",
              "      <td>-0.284682</td>\n",
              "      <td>0.613086</td>\n",
              "      <td>-0.035669</td>\n",
              "      <td>-0.050475</td>\n",
              "      <td>-0.035669</td>\n",
              "      <td>-0.035669</td>\n",
              "      <td>-0.094733</td>\n",
              "      <td>-0.035669</td>\n",
              "      <td>-0.035669</td>\n",
              "      <td>-0.050475</td>\n",
              "      <td>-0.22834</td>\n",
              "      <td>1.926804</td>\n",
              "      <td>-0.050475</td>\n",
              "      <td>-0.035669</td>\n",
              "      <td>-1.100306</td>\n",
              "      <td>-0.430396</td>\n",
              "      <td>-0.035669</td>\n",
              "      <td>-0.087650</td>\n",
              "      <td>-0.035669</td>\n",
              "    </tr>\n",
              "    <tr>\n",
              "      <th>888</th>\n",
              "      <td>0.883694</td>\n",
              "      <td>-1.284458</td>\n",
              "      <td>-0.006801</td>\n",
              "      <td>0.458674</td>\n",
              "      <td>1.891635</td>\n",
              "      <td>-0.217554</td>\n",
              "      <td>1.324796</td>\n",
              "      <td>-0.409638</td>\n",
              "      <td>-0.497219</td>\n",
              "      <td>-0.284682</td>\n",
              "      <td>0.613086</td>\n",
              "      <td>-0.035669</td>\n",
              "      <td>-0.050475</td>\n",
              "      <td>-0.035669</td>\n",
              "      <td>-0.035669</td>\n",
              "      <td>-0.094733</td>\n",
              "      <td>-0.035669</td>\n",
              "      <td>-0.035669</td>\n",
              "      <td>-0.050475</td>\n",
              "      <td>-0.22834</td>\n",
              "      <td>1.926804</td>\n",
              "      <td>-0.050475</td>\n",
              "      <td>-0.035669</td>\n",
              "      <td>-1.100306</td>\n",
              "      <td>-0.430396</td>\n",
              "      <td>-0.035669</td>\n",
              "      <td>-0.087650</td>\n",
              "      <td>-0.035669</td>\n",
              "    </tr>\n",
              "    <tr>\n",
              "      <th>889</th>\n",
              "      <td>-1.461895</td>\n",
              "      <td>0.778539</td>\n",
              "      <td>-0.277939</td>\n",
              "      <td>-0.522240</td>\n",
              "      <td>-0.497958</td>\n",
              "      <td>-0.091731</td>\n",
              "      <td>-0.613149</td>\n",
              "      <td>0.229182</td>\n",
              "      <td>2.011187</td>\n",
              "      <td>-0.284682</td>\n",
              "      <td>-1.631093</td>\n",
              "      <td>-0.035669</td>\n",
              "      <td>-0.050475</td>\n",
              "      <td>-0.035669</td>\n",
              "      <td>-0.035669</td>\n",
              "      <td>-0.094733</td>\n",
              "      <td>-0.035669</td>\n",
              "      <td>-0.035669</td>\n",
              "      <td>-0.050475</td>\n",
              "      <td>-0.22834</td>\n",
              "      <td>-0.518994</td>\n",
              "      <td>-0.050475</td>\n",
              "      <td>-0.035669</td>\n",
              "      <td>0.908838</td>\n",
              "      <td>-0.430396</td>\n",
              "      <td>-0.035669</td>\n",
              "      <td>-0.087650</td>\n",
              "      <td>-0.035669</td>\n",
              "    </tr>\n",
              "    <tr>\n",
              "      <th>890</th>\n",
              "      <td>0.883694</td>\n",
              "      <td>0.778539</td>\n",
              "      <td>0.161850</td>\n",
              "      <td>-0.522240</td>\n",
              "      <td>-0.497958</td>\n",
              "      <td>-0.519146</td>\n",
              "      <td>-0.613149</td>\n",
              "      <td>-0.359683</td>\n",
              "      <td>-0.497219</td>\n",
              "      <td>3.512689</td>\n",
              "      <td>-1.631093</td>\n",
              "      <td>-0.035669</td>\n",
              "      <td>-0.050475</td>\n",
              "      <td>-0.035669</td>\n",
              "      <td>-0.035669</td>\n",
              "      <td>-0.094733</td>\n",
              "      <td>-0.035669</td>\n",
              "      <td>-0.035669</td>\n",
              "      <td>-0.050475</td>\n",
              "      <td>-0.22834</td>\n",
              "      <td>-0.518994</td>\n",
              "      <td>-0.050475</td>\n",
              "      <td>-0.035669</td>\n",
              "      <td>0.908838</td>\n",
              "      <td>-0.430396</td>\n",
              "      <td>-0.035669</td>\n",
              "      <td>-0.087650</td>\n",
              "      <td>-0.035669</td>\n",
              "    </tr>\n",
              "  </tbody>\n",
              "</table>\n",
              "<p>787 rows × 28 columns</p>\n",
              "</div>\n",
              "      <button class=\"colab-df-convert\" onclick=\"convertToInteractive('df-987ce0ed-8a93-4aa7-94b3-21fa8e35ec71')\"\n",
              "              title=\"Convert this dataframe to an interactive table.\"\n",
              "              style=\"display:none;\">\n",
              "        \n",
              "  <svg xmlns=\"http://www.w3.org/2000/svg\" height=\"24px\"viewBox=\"0 0 24 24\"\n",
              "       width=\"24px\">\n",
              "    <path d=\"M0 0h24v24H0V0z\" fill=\"none\"/>\n",
              "    <path d=\"M18.56 5.44l.94 2.06.94-2.06 2.06-.94-2.06-.94-.94-2.06-.94 2.06-2.06.94zm-11 1L8.5 8.5l.94-2.06 2.06-.94-2.06-.94L8.5 2.5l-.94 2.06-2.06.94zm10 10l.94 2.06.94-2.06 2.06-.94-2.06-.94-.94-2.06-.94 2.06-2.06.94z\"/><path d=\"M17.41 7.96l-1.37-1.37c-.4-.4-.92-.59-1.43-.59-.52 0-1.04.2-1.43.59L10.3 9.45l-7.72 7.72c-.78.78-.78 2.05 0 2.83L4 21.41c.39.39.9.59 1.41.59.51 0 1.02-.2 1.41-.59l7.78-7.78 2.81-2.81c.8-.78.8-2.07 0-2.86zM5.41 20L4 18.59l7.72-7.72 1.47 1.35L5.41 20z\"/>\n",
              "  </svg>\n",
              "      </button>\n",
              "      \n",
              "  <style>\n",
              "    .colab-df-container {\n",
              "      display:flex;\n",
              "      flex-wrap:wrap;\n",
              "      gap: 12px;\n",
              "    }\n",
              "\n",
              "    .colab-df-convert {\n",
              "      background-color: #E8F0FE;\n",
              "      border: none;\n",
              "      border-radius: 50%;\n",
              "      cursor: pointer;\n",
              "      display: none;\n",
              "      fill: #1967D2;\n",
              "      height: 32px;\n",
              "      padding: 0 0 0 0;\n",
              "      width: 32px;\n",
              "    }\n",
              "\n",
              "    .colab-df-convert:hover {\n",
              "      background-color: #E2EBFA;\n",
              "      box-shadow: 0px 1px 2px rgba(60, 64, 67, 0.3), 0px 1px 3px 1px rgba(60, 64, 67, 0.15);\n",
              "      fill: #174EA6;\n",
              "    }\n",
              "\n",
              "    [theme=dark] .colab-df-convert {\n",
              "      background-color: #3B4455;\n",
              "      fill: #D2E3FC;\n",
              "    }\n",
              "\n",
              "    [theme=dark] .colab-df-convert:hover {\n",
              "      background-color: #434B5C;\n",
              "      box-shadow: 0px 1px 3px 1px rgba(0, 0, 0, 0.15);\n",
              "      filter: drop-shadow(0px 1px 2px rgba(0, 0, 0, 0.3));\n",
              "      fill: #FFFFFF;\n",
              "    }\n",
              "  </style>\n",
              "\n",
              "      <script>\n",
              "        const buttonEl =\n",
              "          document.querySelector('#df-987ce0ed-8a93-4aa7-94b3-21fa8e35ec71 button.colab-df-convert');\n",
              "        buttonEl.style.display =\n",
              "          google.colab.kernel.accessAllowed ? 'block' : 'none';\n",
              "\n",
              "        async function convertToInteractive(key) {\n",
              "          const element = document.querySelector('#df-987ce0ed-8a93-4aa7-94b3-21fa8e35ec71');\n",
              "          const dataTable =\n",
              "            await google.colab.kernel.invokeFunction('convertToInteractive',\n",
              "                                                     [key], {});\n",
              "          if (!dataTable) return;\n",
              "\n",
              "          const docLinkHtml = 'Like what you see? Visit the ' +\n",
              "            '<a target=\"_blank\" href=https://colab.research.google.com/notebooks/data_table.ipynb>data table notebook</a>'\n",
              "            + ' to learn more about interactive tables.';\n",
              "          element.innerHTML = '';\n",
              "          dataTable['output_type'] = 'display_data';\n",
              "          await google.colab.output.renderOutput(dataTable, element);\n",
              "          const docLink = document.createElement('div');\n",
              "          docLink.innerHTML = docLinkHtml;\n",
              "          element.appendChild(docLink);\n",
              "        }\n",
              "      </script>\n",
              "    </div>\n",
              "  </div>\n",
              "  "
            ]
          },
          "metadata": {},
          "execution_count": 61
        }
      ]
    },
    {
      "cell_type": "markdown",
      "metadata": {
        "id": "_g0b1hrfa5pP"
      },
      "source": [
        "## 4.1 Normal Modeling"
      ]
    },
    {
      "cell_type": "code",
      "metadata": {
        "id": "ccE6jMd8a5pQ",
        "colab": {
          "base_uri": "https://localhost:8080/"
        },
        "outputId": "929590f4-8bfd-4f56-b52a-804eb2bad11a"
      },
      "source": [
        "# Neural networks library and modules\n",
        " \n",
        "X_train_norm = full_df[:y_train.shape[0]]\n",
        "X_test_norm = full_df[y_train.shape[0]:]\n",
        "\n",
        "print(f\"Train norm X shape: {X_train_norm.shape}\")\n",
        "print(f\"Train y shape: {y_train.shape}\")\n",
        "print(f\"Test norm X shape: {X_test_norm.shape}\")\n"
      ],
      "execution_count": 62,
      "outputs": [
        {
          "output_type": "stream",
          "name": "stdout",
          "text": [
            "Train norm X shape: (787, 28)\n",
            "Train y shape: (787,)\n",
            "Test norm X shape: (0, 28)\n"
          ]
        }
      ]
    },
    {
      "cell_type": "code",
      "source": [
        "# Let's highlight categorical features in one list, since they may be needed for some models\n",
        "categorical_columns = ['Sex', 'Embarked', 'Title', 'TicketNumber', 'IsAlone']"
      ],
      "metadata": {
        "id": "oDeby2j9ijWm"
      },
      "execution_count": 63,
      "outputs": []
    },
    {
      "cell_type": "code",
      "source": [
        "#Save mean cross-validated accuracy scores of best models\n",
        "\n",
        "cross_valid_scores = {}"
      ],
      "metadata": {
        "id": "yVYXmdLiYM4J"
      },
      "execution_count": 64,
      "outputs": []
    },
    {
      "cell_type": "code",
      "source": [
        "import os\n",
        "import random\n",
        "def set_seed(seed_value):\n",
        "    random.seed(seed_value)\n",
        "    np.random.seed(seed_value)\n",
        "    os.environ[\"PYTHONHASHSEED\"] = str(seed_value)\n",
        "    \n",
        "\n",
        "SEED = 42\n",
        "set_seed(SEED)"
      ],
      "metadata": {
        "id": "8GkIz0iOlQrf"
      },
      "execution_count": 71,
      "outputs": []
    },
    {
      "cell_type": "code",
      "source": [
        "\n",
        "# Compiling the model\n",
        "from sklearn.tree import DecisionTreeClassifier\n",
        "from sklearn.model_selection import train_test_split, GridSearchCV\n",
        "# Decision Tree\n",
        "\n",
        "parameters = {\n",
        "    \"max_depth\": [3, 5, 7, 9, 11, 13],\n",
        "}\n",
        "\n",
        "model_desicion_tree = DecisionTreeClassifier(\n",
        "    random_state=SEED,\n",
        "    class_weight='balanced',\n",
        ")\n",
        "\n",
        "model_desicion_tree = GridSearchCV(\n",
        "    model_desicion_tree, \n",
        "    parameters, \n",
        "    cv=5,\n",
        "    scoring='accuracy',\n",
        ")\n",
        "\n",
        "model_desicion_tree.fit(X_train, y_train)\n",
        "\n",
        "print('-----')\n",
        "print(f'Best parameters {model_desicion_tree.best_params_}')\n",
        "print(\n",
        "    f'Mean cross-validated accuracy score of the best_estimator: ' + \\\n",
        "    f'{model_desicion_tree.best_score_:.3f}'\n",
        ")\n",
        "cross_valid_scores['desicion_tree'] = model_desicion_tree.best_score_\n",
        "print('-----')"
      ],
      "metadata": {
        "id": "kl1S09zZYVC2",
        "colab": {
          "base_uri": "https://localhost:8080/"
        },
        "outputId": "aa0dbade-fb29-4a58-9bcc-5940d43059c3"
      },
      "execution_count": 73,
      "outputs": [
        {
          "output_type": "stream",
          "name": "stdout",
          "text": [
            "-----\n",
            "Best parameters {'max_depth': 5}\n",
            "Mean cross-validated accuracy score of the best_estimator: 0.784\n",
            "-----\n"
          ]
        }
      ]
    },
    {
      "cell_type": "markdown",
      "metadata": {
        "id": "Pe8-IP_sa5pV"
      },
      "source": [
        "## 4.2 Modeling with Grid Search"
      ]
    },
    {
      "cell_type": "markdown",
      "metadata": {
        "id": "hPw-Q8m5K1n6"
      },
      "source": [
        "For this example, we will use the Runtime type -> TPU (Tensorfolow Processing Unit). To change run type go to Menu -> Runtime -> Change runtime type -> TPU."
      ]
    },
    {
      "cell_type": "code",
      "metadata": {
        "id": "KPdlyE78y15-",
        "colab": {
          "base_uri": "https://localhost:8080/",
          "height": 1000
        },
        "outputId": "18d42502-217b-4f71-a7bb-7cbe951f9c41"
      },
      "source": [
        "\n",
        "from sklearn.model_selection import GridSearchCV\n",
        "from keras.models import Sequential\n",
        "from keras.layers import Dense, Dropout\n",
        "from keras.wrappers.scikit_learn import KerasClassifier\n",
        "from keras.constraints import maxnorm\n",
        "\n",
        "in_shape = X_train.shape[1]\n",
        "\n",
        "def create_model(optimizer='Adam', neurons=50):\n",
        "    # Initialize the constructor\n",
        "    model = Sequential()\n",
        "    # Input - Layer\n",
        "    model.add(Dense(neurons, input_dim=in_shape, activation=activation))\n",
        "    # Hidden - Layers\n",
        "    model.add(Dropout(dropout_rate))\n",
        "    model.add(Dense(neurons, activation = activation))\n",
        "    model.add(Dropout(dropout_rate))\n",
        "    model.add(Dense(neurons, activation = activation))\n",
        "    # Output- Layer\n",
        "    model.add(Dense(1, activation='sigmoid'))\n",
        "    model.compile(loss='binary_crossentropy', optimizer=optimizer, metrics=['accuracy'])\n",
        "    return model\n",
        "\n",
        "def nn_hyperparameter_optimization():\n",
        "    model = KerasClassifier(build_fn=create_model, verbose=0)\n",
        "    # defining the grid search parameters\n",
        "    neurons = [65, 75, 85]\n",
        "    batch_size= [10, 20, 30, 40]\n",
        "    epochs= [10, 20, 30, 40]\n",
        "    optimizer = ['RMSprop', 'Adagrad', 'Adadelta', 'Adam', 'Adamax', 'Nadam']\n",
        "    activation = ['softmax', 'softplus', 'softsign', 'relu', 'tanh', 'sigmoid', 'hard_sigmoid', 'linear']\n",
        "    dropout_rate = [0.1, 0.2, 0.3, 0.4, 0.5]\n",
        "    param_grid = dict(neurons=neurons,\n",
        "                      optimizer=optimizer,\n",
        "                      batch_size=batch_size,\n",
        "                      epochs=epochs,\n",
        "                      activation=activation,\n",
        "                      dropout_rate=dropout_rate)\n",
        "    grid = GridSearchCV(estimator=model, param_grid=param_grid, n_jobs=-1, cv=5)\n",
        "    grid_result = grid.fit(X_train, y_train)\n",
        "\n",
        "    # summarize results\n",
        "    print(\"Best: %f using %s\" % (grid_result.best_score_, grid_result.best_params_))\n",
        "    means = grid_result.cv_results_['mean_test_score']\n",
        "    stds = grid_result.cv_results_['std_test_score']\n",
        "    params = grid_result.cv_results_['params']\n",
        "    for mean, stdev, param in zip(means, stds, params):\n",
        "        print(\"%f (%f) with: %r\" % (mean, stdev, param))\n",
        "    return grid_result\n",
        "\n",
        "## based on the hyper parameter optimization, the below model is built.\n",
        "nn_model = Sequential()\n",
        "# Input - Layer\n",
        "nn_model.add(Dense(65, input_dim=in_shape, activation='relu'))\n",
        "# Hidden - Layers\n",
        "nn_model.add(Dropout(0.2))\n",
        "nn_model.add(Dense(65, activation = 'relu'))\n",
        "nn_model.add(Dropout(0.2))\n",
        "nn_model.add(Dense(65, activation = 'relu'))\n",
        "# Output- Layer\n",
        "nn_model.add(Dense(1, activation='sigmoid'))\n",
        "nn_model.compile(loss='binary_crossentropy', optimizer='Nadam', metrics=['accuracy'])\n",
        "nn_model.fit(X_train, y_train,\n",
        "          batch_size=20,\n",
        "          epochs=20,\n",
        "          verbose=1,\n",
        "          validation_data=(X_test, X_test_norm))\n",
        "\n",
        "score = nn_model.evaluate(X_test, X_test_norm, verbose=2)\n",
        "score_nn = score[1]\n",
        "print('Test loss:', score[0])\n",
        "print('Test accuracy:', score[1])"
      ],
      "execution_count": 76,
      "outputs": [
        {
          "output_type": "stream",
          "name": "stdout",
          "text": [
            "Epoch 1/20\n",
            "40/40 [==============================] - 1s 3ms/step - loss: 0.9342 - accuracy: 0.6048\n",
            "Epoch 2/20\n",
            "40/40 [==============================] - 0s 3ms/step - loss: 0.8013 - accuracy: 0.6061\n",
            "Epoch 3/20\n",
            "40/40 [==============================] - 0s 2ms/step - loss: 0.7787 - accuracy: 0.6252\n",
            "Epoch 4/20\n",
            "40/40 [==============================] - 0s 2ms/step - loss: 0.6879 - accuracy: 0.6595\n",
            "Epoch 5/20\n",
            "40/40 [==============================] - 0s 2ms/step - loss: 0.7135 - accuracy: 0.6557\n",
            "Epoch 6/20\n",
            "40/40 [==============================] - 0s 2ms/step - loss: 0.6762 - accuracy: 0.6404\n",
            "Epoch 7/20\n",
            "40/40 [==============================] - 0s 2ms/step - loss: 0.6727 - accuracy: 0.6506\n",
            "Epoch 8/20\n",
            "40/40 [==============================] - 0s 2ms/step - loss: 0.6379 - accuracy: 0.6582\n",
            "Epoch 9/20\n",
            "40/40 [==============================] - 0s 2ms/step - loss: 0.6502 - accuracy: 0.6709\n",
            "Epoch 10/20\n",
            "40/40 [==============================] - 0s 2ms/step - loss: 0.6481 - accuracy: 0.6645\n",
            "Epoch 11/20\n",
            "40/40 [==============================] - 0s 2ms/step - loss: 0.6425 - accuracy: 0.6823\n",
            "Epoch 12/20\n",
            "40/40 [==============================] - 0s 2ms/step - loss: 0.6385 - accuracy: 0.6823\n",
            "Epoch 13/20\n",
            "40/40 [==============================] - 0s 2ms/step - loss: 0.6323 - accuracy: 0.6900\n",
            "Epoch 14/20\n",
            "40/40 [==============================] - 0s 2ms/step - loss: 0.6303 - accuracy: 0.6785\n",
            "Epoch 15/20\n",
            "40/40 [==============================] - 0s 2ms/step - loss: 0.6559 - accuracy: 0.6506\n",
            "Epoch 16/20\n",
            "40/40 [==============================] - 0s 2ms/step - loss: 0.6220 - accuracy: 0.6773\n",
            "Epoch 17/20\n",
            "40/40 [==============================] - 0s 2ms/step - loss: 0.6068 - accuracy: 0.6785\n",
            "Epoch 18/20\n",
            "40/40 [==============================] - 0s 2ms/step - loss: 0.5926 - accuracy: 0.6925\n",
            "Epoch 19/20\n",
            "40/40 [==============================] - 0s 2ms/step - loss: 0.6003 - accuracy: 0.7065\n",
            "Epoch 20/20\n",
            "40/40 [==============================] - 0s 2ms/step - loss: 0.5990 - accuracy: 0.6773\n"
          ]
        },
        {
          "output_type": "stream",
          "name": "stderr",
          "text": [
            "/usr/local/lib/python3.7/dist-packages/keras/utils/generic_utils.py:981: RuntimeWarning: divide by zero encountered in log10\n",
            "  numdigits = int(np.log10(self.target)) + 1\n"
          ]
        },
        {
          "output_type": "error",
          "ename": "OverflowError",
          "evalue": "ignored",
          "traceback": [
            "\u001b[0;31m---------------------------------------------------------------------------\u001b[0m",
            "\u001b[0;31mOverflowError\u001b[0m                             Traceback (most recent call last)",
            "\u001b[0;32m<ipython-input-76-4fa5127c006c>\u001b[0m in \u001b[0;36m<module>\u001b[0;34m()\u001b[0m\n\u001b[1;32m     68\u001b[0m           validation_data=(X_test, X_test_norm))\n\u001b[1;32m     69\u001b[0m \u001b[0;34m\u001b[0m\u001b[0m\n\u001b[0;32m---> 70\u001b[0;31m \u001b[0mscore\u001b[0m \u001b[0;34m=\u001b[0m \u001b[0mnn_model\u001b[0m\u001b[0;34m.\u001b[0m\u001b[0mevaluate\u001b[0m\u001b[0;34m(\u001b[0m\u001b[0mX_test\u001b[0m\u001b[0;34m,\u001b[0m \u001b[0mX_test_norm\u001b[0m\u001b[0;34m,\u001b[0m \u001b[0mverbose\u001b[0m\u001b[0;34m=\u001b[0m\u001b[0;36m2\u001b[0m\u001b[0;34m)\u001b[0m\u001b[0;34m\u001b[0m\u001b[0;34m\u001b[0m\u001b[0m\n\u001b[0m\u001b[1;32m     71\u001b[0m \u001b[0mscore_nn\u001b[0m \u001b[0;34m=\u001b[0m \u001b[0mscore\u001b[0m\u001b[0;34m[\u001b[0m\u001b[0;36m1\u001b[0m\u001b[0;34m]\u001b[0m\u001b[0;34m\u001b[0m\u001b[0;34m\u001b[0m\u001b[0m\n\u001b[1;32m     72\u001b[0m \u001b[0mprint\u001b[0m\u001b[0;34m(\u001b[0m\u001b[0;34m'Test loss:'\u001b[0m\u001b[0;34m,\u001b[0m \u001b[0mscore\u001b[0m\u001b[0;34m[\u001b[0m\u001b[0;36m0\u001b[0m\u001b[0;34m]\u001b[0m\u001b[0;34m)\u001b[0m\u001b[0;34m\u001b[0m\u001b[0;34m\u001b[0m\u001b[0m\n",
            "\u001b[0;32m/usr/local/lib/python3.7/dist-packages/keras/utils/traceback_utils.py\u001b[0m in \u001b[0;36merror_handler\u001b[0;34m(*args, **kwargs)\u001b[0m\n\u001b[1;32m     65\u001b[0m     \u001b[0;32mexcept\u001b[0m \u001b[0mException\u001b[0m \u001b[0;32mas\u001b[0m \u001b[0me\u001b[0m\u001b[0;34m:\u001b[0m  \u001b[0;31m# pylint: disable=broad-except\u001b[0m\u001b[0;34m\u001b[0m\u001b[0;34m\u001b[0m\u001b[0m\n\u001b[1;32m     66\u001b[0m       \u001b[0mfiltered_tb\u001b[0m \u001b[0;34m=\u001b[0m \u001b[0m_process_traceback_frames\u001b[0m\u001b[0;34m(\u001b[0m\u001b[0me\u001b[0m\u001b[0;34m.\u001b[0m\u001b[0m__traceback__\u001b[0m\u001b[0;34m)\u001b[0m\u001b[0;34m\u001b[0m\u001b[0;34m\u001b[0m\u001b[0m\n\u001b[0;32m---> 67\u001b[0;31m       \u001b[0;32mraise\u001b[0m \u001b[0me\u001b[0m\u001b[0;34m.\u001b[0m\u001b[0mwith_traceback\u001b[0m\u001b[0;34m(\u001b[0m\u001b[0mfiltered_tb\u001b[0m\u001b[0;34m)\u001b[0m \u001b[0;32mfrom\u001b[0m \u001b[0;32mNone\u001b[0m\u001b[0;34m\u001b[0m\u001b[0;34m\u001b[0m\u001b[0m\n\u001b[0m\u001b[1;32m     68\u001b[0m     \u001b[0;32mfinally\u001b[0m\u001b[0;34m:\u001b[0m\u001b[0;34m\u001b[0m\u001b[0;34m\u001b[0m\u001b[0m\n\u001b[1;32m     69\u001b[0m       \u001b[0;32mdel\u001b[0m \u001b[0mfiltered_tb\u001b[0m\u001b[0;34m\u001b[0m\u001b[0;34m\u001b[0m\u001b[0m\n",
            "\u001b[0;32m/usr/local/lib/python3.7/dist-packages/keras/utils/generic_utils.py\u001b[0m in \u001b[0;36mupdate\u001b[0;34m(self, current, values, finalize)\u001b[0m\n\u001b[1;32m    979\u001b[0m     \u001b[0;32melif\u001b[0m \u001b[0mself\u001b[0m\u001b[0;34m.\u001b[0m\u001b[0mverbose\u001b[0m \u001b[0;34m==\u001b[0m \u001b[0;36m2\u001b[0m\u001b[0;34m:\u001b[0m\u001b[0;34m\u001b[0m\u001b[0;34m\u001b[0m\u001b[0m\n\u001b[1;32m    980\u001b[0m       \u001b[0;32mif\u001b[0m \u001b[0mfinalize\u001b[0m\u001b[0;34m:\u001b[0m\u001b[0;34m\u001b[0m\u001b[0;34m\u001b[0m\u001b[0m\n\u001b[0;32m--> 981\u001b[0;31m         \u001b[0mnumdigits\u001b[0m \u001b[0;34m=\u001b[0m \u001b[0mint\u001b[0m\u001b[0;34m(\u001b[0m\u001b[0mnp\u001b[0m\u001b[0;34m.\u001b[0m\u001b[0mlog10\u001b[0m\u001b[0;34m(\u001b[0m\u001b[0mself\u001b[0m\u001b[0;34m.\u001b[0m\u001b[0mtarget\u001b[0m\u001b[0;34m)\u001b[0m\u001b[0;34m)\u001b[0m \u001b[0;34m+\u001b[0m \u001b[0;36m1\u001b[0m\u001b[0;34m\u001b[0m\u001b[0;34m\u001b[0m\u001b[0m\n\u001b[0m\u001b[1;32m    982\u001b[0m         \u001b[0mcount\u001b[0m \u001b[0;34m=\u001b[0m \u001b[0;34m(\u001b[0m\u001b[0;34m'%'\u001b[0m \u001b[0;34m+\u001b[0m \u001b[0mstr\u001b[0m\u001b[0;34m(\u001b[0m\u001b[0mnumdigits\u001b[0m\u001b[0;34m)\u001b[0m \u001b[0;34m+\u001b[0m \u001b[0;34m'd/%d'\u001b[0m\u001b[0;34m)\u001b[0m \u001b[0;34m%\u001b[0m \u001b[0;34m(\u001b[0m\u001b[0mcurrent\u001b[0m\u001b[0;34m,\u001b[0m \u001b[0mself\u001b[0m\u001b[0;34m.\u001b[0m\u001b[0mtarget\u001b[0m\u001b[0;34m)\u001b[0m\u001b[0;34m\u001b[0m\u001b[0;34m\u001b[0m\u001b[0m\n\u001b[1;32m    983\u001b[0m         \u001b[0minfo\u001b[0m \u001b[0;34m=\u001b[0m \u001b[0mcount\u001b[0m \u001b[0;34m+\u001b[0m \u001b[0minfo\u001b[0m\u001b[0;34m\u001b[0m\u001b[0;34m\u001b[0m\u001b[0m\n",
            "\u001b[0;31mOverflowError\u001b[0m: cannot convert float infinity to integer"
          ]
        }
      ]
    },
    {
      "cell_type": "markdown",
      "metadata": {
        "id": "LVsz0FqLa5pY"
      },
      "source": [
        "Your observation ..."
      ]
    },
    {
      "cell_type": "code",
      "metadata": {
        "id": "nzSTyIBDKf3A"
      },
      "source": [
        "xTest = test[selFeatures]\n",
        "xTest = handle_categorical_na(xTest)\n",
        "## using One Hot Encoding for handling categorical data\n",
        "xTest = pd.get_dummies(xTest,columns=['Embarked','Sex'],prefix=['Embarked','Sex'])\n",
        "common_col = [x for x in xTest.columns if x in X_train.columns]\n",
        "xTest = xTest[common_col]\n",
        "missing_col = [x for x in X_train.columns if x not in xTest.columns]\n",
        "## Inserting missing columns in test data\n",
        "for val in missing_col:\n",
        "    xTest.insert(xTest.shape[1], val, pd.Series(np.zeros(xTest.shape[0])))\n",
        "col_names = xTest.columns\n",
        "from sklearn.impute import SimpleImputer\n",
        "my_imputer = SimpleImputer()\n",
        "xTest = my_imputer.fit_transform(xTest)\n",
        "xTest = pd.DataFrame(xTest)\n",
        "xTest.columns = col_names\n",
        "\n",
        "submission = pd.DataFrame()\n",
        "## Comparing and submitting the best result\n",
        "if score_nn>score_rf:\n",
        "    predictions = nn_model.predict_classes(xTest)\n",
        "    predictions = [x[0] for x in predictions]\n",
        "else:\n",
        "    predictions = rf_model.predict(xTest)\n",
        "submission = pd.DataFrame({'PassengerId': testData.PassengerId, 'Survived': predictions})\n",
        "submission.to_csv('Data/submission.csv', index=False)\n",
        "submission.head()"
      ],
      "execution_count": null,
      "outputs": []
    },
    {
      "cell_type": "markdown",
      "metadata": {
        "id": "VoUwyWTka5pr"
      },
      "source": [
        "# <font color='#2F4F4F'>5. Summary of Findings</font>\n",
        "\n",
        "Our model predicts 81% of the time, a passengers survival correctly (precision). The recall tells us that it predicted the survival of 73 % of the people who actually survived."
      ]
    }
  ]
}